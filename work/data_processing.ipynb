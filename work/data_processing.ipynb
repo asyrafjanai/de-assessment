{
 "cells": [
  {
   "cell_type": "code",
   "execution_count": 1,
   "id": "753cf71e-306c-40e1-acc2-8e9b754130e2",
   "metadata": {},
   "outputs": [],
   "source": [
    "import pyspark.sql.functions as F\n",
    "from pyspark.sql import SparkSession\n",
    "from pyspark.sql.types import StructType, StructField, StringType, TimestampType"
   ]
  },
  {
   "cell_type": "code",
   "execution_count": 2,
   "id": "a5ec76d7-e1b3-4fb4-b600-a86ed27063a1",
   "metadata": {},
   "outputs": [],
   "source": [
    "import os\n",
    "import sys\n",
    "\n",
    "os.environ['PYSPARK_PYTHON'] = sys.executable\n",
    "os.environ['PYSPARK_DRIVER_PYTHON'] = sys.executable"
   ]
  },
  {
   "cell_type": "code",
   "execution_count": 3,
   "id": "c6572c87-e6f5-436f-9649-44da6b365f5f",
   "metadata": {},
   "outputs": [],
   "source": [
    "spark = SparkSession.builder \\\n",
    "    .appName(\"JSON Processing\") \\\n",
    "    .master(\"spark://spark-master:7077\") \\\n",
    "    .config(\"spark.driver.memory\", \"4g\") \\\n",
    "    .config(\"spark.executor.memory\", \"4g\") \\\n",
    "    .getOrCreate()"
   ]
  },
  {
   "cell_type": "code",
   "execution_count": 4,
   "id": "02ada815-10e4-42f9-9fa9-45dc2f605b7c",
   "metadata": {},
   "outputs": [],
   "source": [
    "df1 = spark.read.json('data/sample.json')"
   ]
  },
  {
   "cell_type": "code",
   "execution_count": 5,
   "id": "873ecef5-4096-482b-aae9-023fda1a394b",
   "metadata": {},
   "outputs": [
    {
     "name": "stdout",
     "output_type": "stream",
     "text": [
      "+---+-------------+-----+\n",
      "|age|         city| name|\n",
      "+---+-------------+-----+\n",
      "| 30|     New York| John|\n",
      "| 25|San Francisco|Alice|\n",
      "| 35|      Chicago|  Bob|\n",
      "+---+-------------+-----+\n",
      "\n"
     ]
    }
   ],
   "source": [
    "df1.show()"
   ]
  },
  {
   "cell_type": "code",
   "execution_count": 6,
   "id": "1a7056f6-019b-4f15-8a86-8991c3f2f972",
   "metadata": {},
   "outputs": [],
   "source": [
    "df = spark.read.json('data/cc_sample_transaction.json')"
   ]
  },
  {
   "cell_type": "code",
   "execution_count": 7,
   "id": "0947ed34-d3d2-447e-8e0d-c5c019c5b0b1",
   "metadata": {},
   "outputs": [
    {
     "name": "stdout",
     "output_type": "stream",
     "text": [
      "+----------+------+-------------+-----------+----------------+--------+----------------+----------------------+------------------+-----------+-------------+--------------------+--------------------+---------------------+--------------------+\n",
      "|Unnamed: 0|   amt|     category|     cc_bic|          cc_num|is_fraud|  merch_eff_time|merch_last_update_time|         merch_lat| merch_long|merch_zipcode|            merchant|     personal_detail|trans_date_trans_time|           trans_num|\n",
      "+----------+------+-------------+-----------+----------------+--------+----------------+----------------------+------------------+-----------+-------------+--------------------+--------------------+---------------------+--------------------+\n",
      "|         0|  4.97|     misc_net|CITIUS33CHI|2703186189652095|       0|1325376018798532|         1325376018666|         36.011293| -82.048315|        28705|fraud_Rippin, Kub...|{\"person_name\":\"J...|  2019-01-01 00:00:18|0b242abb623afc578...|\n",
      "|         1|107.23|  grocery_pos|   ADMDUS41|    630423337322|       0|1325376044867960|          132537604479|49.159046999999994|-118.186462|         NULL|fraud_Heller, Gut...|{\"person_name\":\"S...|  2019-01-01 00:00:44|1f76529f857473494...|\n",
      "|         2|220.11|entertainment|       Null|  38859492057661|       0|1325376051506840|         1325376051286|         43.150704|-112.154481|        83236|fraud_Lind-Buckridge|{\"person_name\":\"E...|  2019-01-01 00:00:51|a1a22d70485983eac...|\n",
      "|         3|  45.0|gas_transport|DEUTUS33TRF|3534093764340240|       0|1325376076794698|         1325376076365|         47.034331|-112.561071|         NULL|fraud_Kutch, Herm...|{\"person_name\":\"J...|  2019-01-01 00:01:16|6b849c168bdad6f86...|\n",
      "|         4| 41.96|     misc_pos|   APBCUS61| 375534208663984|       0|1325376186746376|          132537618681|         38.674999| -78.632459|        22844| fraud_Keeling-Crist|{\"person_name\":\"T...|  2019-01-01 00:03:06|a41d7549acf907893...|\n",
      "+----------+------+-------------+-----------+----------------+--------+----------------+----------------------+------------------+-----------+-------------+--------------------+--------------------+---------------------+--------------------+\n",
      "\n"
     ]
    }
   ],
   "source": [
    "df.limit(5).show(truncate=True)"
   ]
  },
  {
   "cell_type": "code",
   "execution_count": 8,
   "id": "0d1fefba-3afe-4c9a-94fd-a617f7dd9b05",
   "metadata": {},
   "outputs": [],
   "source": [
    "# Define the schema for the main JSON structure\n",
    "main_schema = StructType([\n",
    "    StructField(\"person_name\", StringType()),\n",
    "    StructField(\"gender\", StringType()),\n",
    "    StructField(\"address\", StringType()), \n",
    "    StructField(\"lat\", StringType()),\n",
    "    StructField(\"long\", StringType()),\n",
    "    StructField(\"city_pop\", StringType()),\n",
    "    StructField(\"job\", StringType()),\n",
    "    StructField(\"dob\", StringType())\n",
    "])\n",
    "\n",
    "# Define schema for the nested address\n",
    "address_schema = StructType([\n",
    "    StructField(\"street\", StringType()),\n",
    "    StructField(\"city\", StringType()),\n",
    "    StructField(\"state\", StringType()),\n",
    "    StructField(\"zip\", StringType())\n",
    "])"
   ]
  },
  {
   "cell_type": "code",
   "execution_count": 9,
   "id": "20788d27-4587-465c-bcab-722682439fd2",
   "metadata": {},
   "outputs": [],
   "source": [
    "df_parsed = df.withColumn(\"personal_detail_parsed\", F.from_json(F.col(\"personal_detail\"), main_schema))"
   ]
  },
  {
   "cell_type": "code",
   "execution_count": 10,
   "id": "31234f05-902b-4557-9bee-8f795ba7be47",
   "metadata": {},
   "outputs": [],
   "source": [
    "df_address = df_parsed.withColumn(\"address_parsed\", F.from_json(F.col(\"personal_detail_parsed.address\"), address_schema))"
   ]
  },
  {
   "cell_type": "code",
   "execution_count": 11,
   "id": "2c27360c-868a-46f2-b96d-520d2e11670a",
   "metadata": {},
   "outputs": [],
   "source": [
    "# Extract all fields\n",
    "df_final = df_address.select(\n",
    "    \"*\",\n",
    "    F.col(\"personal_detail_parsed.person_name\").alias(\"person_name\"),\n",
    "    F.col(\"personal_detail_parsed.gender\").alias(\"gender\"),\n",
    "    F.col(\"address_parsed.street\").alias(\"street\"),\n",
    "    F.col(\"address_parsed.city\").alias(\"city\"),\n",
    "    F.col(\"address_parsed.state\").alias(\"state\"),\n",
    "    F.col(\"address_parsed.zip\").alias(\"zip\"),\n",
    "    F.col(\"personal_detail_parsed.lat\").alias(\"latitude\"),\n",
    "    F.col(\"personal_detail_parsed.long\").alias(\"longitude\"),\n",
    "    F.col(\"personal_detail_parsed.city_pop\").alias(\"city_population\"),\n",
    "    F.col(\"personal_detail_parsed.job\").alias(\"job\"),\n",
    "    F.col(\"personal_detail_parsed.dob\").alias(\"dob\")\n",
    ").drop(\"personal_detail\", \"personal_detail_parsed\", \"address_parsed\")"
   ]
  },
  {
   "cell_type": "code",
   "execution_count": 12,
   "id": "bad71ef3-23dd-4d9f-b84e-e3e0be874095",
   "metadata": {},
   "outputs": [
    {
     "name": "stdout",
     "output_type": "stream",
     "text": [
      "+----------+----+--------+-----------+----------------+--------+----------------+----------------------+---------+----------+-------------+--------------------+---------------------+--------------------+--------------------+------+--------------+--------------+-----+-----+--------+---------+---------------+--------------------+----------+\n",
      "|Unnamed: 0| amt|category|     cc_bic|          cc_num|is_fraud|  merch_eff_time|merch_last_update_time|merch_lat|merch_long|merch_zipcode|            merchant|trans_date_trans_time|           trans_num|         person_name|gender|        street|          city|state|  zip|latitude|longitude|city_population|                 job|       dob|\n",
      "+----------+----+--------+-----------+----------------+--------+----------------+----------------------+---------+----------+-------------+--------------------+---------------------+--------------------+--------------------+------+--------------+--------------+-----+-----+--------+---------+---------------+--------------------+----------+\n",
      "|         0|4.97|misc_net|CITIUS33CHI|2703186189652095|       0|1325376018798532|         1325376018666|36.011293|-82.048315|        28705|fraud_Rippin, Kub...|  2019-01-01 00:00:18|0b242abb623afc578...|Jennifer,Banks,eeeee|     F|561 Perry Cove|Moravian Falls|   NC|28654| 36.0788| -81.1781|           3495|Psychologist, cou...|1988-03-09|\n",
      "+----------+----+--------+-----------+----------------+--------+----------------+----------------------+---------+----------+-------------+--------------------+---------------------+--------------------+--------------------+------+--------------+--------------+-----+-----+--------+---------+---------------+--------------------+----------+\n",
      "\n"
     ]
    }
   ],
   "source": [
    "df_final.limit(1).show()"
   ]
  },
  {
   "cell_type": "code",
   "execution_count": null,
   "id": "398fc029-839e-4222-ae7e-da0ece5994ab",
   "metadata": {},
   "outputs": [],
   "source": [
    "# not working solution, since the timestamp columns are not of equal length\n",
    "\n",
    "dt_cols = [\"merch_eff_time\", \"merch_last_update_time\"]\n",
    "for col_name in dt_cols:\n",
    "    df_dt_converted = df_final.withColumn(col_name, F.date_format(\n",
    "        F.from_utc_timestamp(\n",
    "            (F.col(col_name) / 1000).cast(TimestampType()), \n",
    "            \"Asia/Kuala_Lumpur\"\n",
    "        ),\n",
    "        \"yyyy-MM-dd HH:mm:ss\"\n",
    "    ))"
   ]
  },
  {
   "cell_type": "code",
   "execution_count": null,
   "id": "4fec372f-260f-4651-b812-2475e18c71ba",
   "metadata": {},
   "outputs": [],
   "source": [
    "df_dt_converted.select([\"merch_eff_time\", \"merch_last_update_time\"]).limit(2).show()"
   ]
  },
  {
   "cell_type": "code",
   "execution_count": 13,
   "id": "5c6d5ff6-1014-4549-92ae-503ca74ec8cf",
   "metadata": {},
   "outputs": [],
   "source": [
    "# working solution\n",
    "\n",
    "df_dt_converted = df_final.withColumn(\"merch_last_update_time\", F.date_format(\n",
    "        F.from_utc_timestamp(\n",
    "            (F.col(\"merch_last_update_time\") / 1000).cast(TimestampType()), \n",
    "            \"Asia/Kuala_Lumpur\"\n",
    "        ),\n",
    "        \"yyyy-MM-dd HH:mm:ss\"\n",
    "    ))\\\n",
    "    .withColumn(\"merch_eff_time\", F.date_format(\n",
    "        F.from_utc_timestamp(\n",
    "            (F.col(\"merch_eff_time\") / 1000000).cast(TimestampType()), \n",
    "            \"Asia/Kuala_Lumpur\"\n",
    "        ),\n",
    "        \"yyyy-MM-dd HH:mm:ss\"\n",
    "    ))\\\n",
    "    .withColumn(\"trans_date_trans_time\", F.date_format(\n",
    "        F.from_utc_timestamp(\n",
    "            (F.col(\"trans_date_trans_time\")).cast(TimestampType()), \n",
    "            \"Asia/Kuala_Lumpur\"\n",
    "        ),\n",
    "        \"yyyy-MM-dd HH:mm:ss\"\n",
    "    ))"
   ]
  },
  {
   "cell_type": "code",
   "execution_count": 14,
   "id": "f1c65700-5b2c-4eb2-85ba-4ae4055aef40",
   "metadata": {},
   "outputs": [
    {
     "name": "stdout",
     "output_type": "stream",
     "text": [
      "+-------------------+----------------------+---------------------+\n",
      "|merch_eff_time     |merch_last_update_time|trans_date_trans_time|\n",
      "+-------------------+----------------------+---------------------+\n",
      "|2012-01-01 08:00:18|2012-01-01 08:00:18   |2019-01-01 08:00:18  |\n",
      "|2012-01-01 08:00:44|1974-03-15 07:30:04   |2019-01-01 08:00:44  |\n",
      "|2012-01-01 08:00:51|2012-01-01 08:00:51   |2019-01-01 08:00:51  |\n",
      "|2012-01-01 08:01:16|2012-01-01 08:01:16   |2019-01-01 08:01:16  |\n",
      "|2012-01-01 08:03:06|1974-03-15 07:30:18   |2019-01-01 08:03:06  |\n",
      "|2012-01-01 08:04:08|2012-01-01 08:04:08   |2019-01-01 08:04:08  |\n",
      "|2012-01-01 08:04:42|2012-01-01 08:04:42   |2019-01-01 08:04:42  |\n",
      "|2012-01-01 08:05:08|2012-01-01 08:05:08   |2019-01-01 08:05:08  |\n",
      "|2012-01-01 08:05:18|2012-01-01 08:05:18   |2019-01-01 08:05:18  |\n",
      "|2012-01-01 08:06:01|2012-01-01 08:06:01   |2019-01-01 08:06:01  |\n",
      "+-------------------+----------------------+---------------------+\n",
      "\n"
     ]
    }
   ],
   "source": [
    "df_dt_converted.select([\"merch_eff_time\", \"merch_last_update_time\", \"trans_date_trans_time\"]).limit(10).show(truncate=False)"
   ]
  },
  {
   "cell_type": "code",
   "execution_count": 19,
   "id": "a75fa1e1-41de-4f63-839a-9ba05d107bb2",
   "metadata": {},
   "outputs": [
    {
     "name": "stdout",
     "output_type": "stream",
     "text": [
      "+-------------------------+\n",
      "|person_name              |\n",
      "+-------------------------+\n",
      "|Jennifer,Banks,eeeee     |\n",
      "|Stephanie,Gill,eeeee     |\n",
      "|Edward@Sanchez           |\n",
      "|Jeremy/White, !          |\n",
      "|Tyler@Garcia             |\n",
      "|Jennifer,Conner,eeeee    |\n",
      "|Kelsey, , Richards NOOOO |\n",
      "|Steven, Williams         |\n",
      "|Heather, , Chase NOOOO   |\n",
      "|Melissa@Aguilar          |\n",
      "|Eddie|Mendez!!!          |\n",
      "|Theresa@Blackwell        |\n",
      "|Charles|Robles!!!        |\n",
      "|Jack@Hill                |\n",
      "|Christopher@Castaneda    |\n",
      "|Ronald@Carson            |\n",
      "|Lisa, Mendez             |\n",
      "|Nathan,Thomas,eeeee      |\n",
      "|Justin, Gay              |\n",
      "|Kenneth, , Robinson NOOOO|\n",
      "+-------------------------+\n",
      "\n"
     ]
    }
   ],
   "source": [
    "# name derivation\n",
    "\n",
    "df_dt_converted.select([\"person_name\"]).limit(20).show(truncate=False)"
   ]
  },
  {
   "cell_type": "code",
   "execution_count": 33,
   "id": "cff1b03d-c7cd-4f72-a5de-6d8f0da8dd9d",
   "metadata": {},
   "outputs": [],
   "source": [
    "# Normalize delimiters and remove unwanted characters\n",
    "df_normalized = df_dt_converted.withColumn(\n",
    "    \"person_name\",\n",
    "    F.regexp_replace(\"person_name\", r\"[@/|!]+\", \",\")  # Replace '@', '/', '|', and '!' with ','\n",
    ")\n",
    "\n",
    "# Split the column into an array\n",
    "df_split = df_normalized.withColumn(\n",
    "    \"name_parts\",\n",
    "    F.split(\"person_name\", \",\")\n",
    ")\n",
    "\n",
    "# Extract first name, last name, and other parts\n",
    "df_final = df_split.withColumn(\"first_name\", F.trim(df_split[\"name_parts\"][0])) \\\n",
    "                   .withColumn(\"last_name\", F.trim(df_split[\"name_parts\"][1])) \\\n",
    "                   .withColumn(\"other_parts\", F.trim(df_split[\"name_parts\"][2]))"
   ]
  },
  {
   "cell_type": "code",
   "execution_count": 34,
   "id": "42c3bf0c-55ba-4e13-b4f7-e3ccef594560",
   "metadata": {},
   "outputs": [
    {
     "name": "stdout",
     "output_type": "stream",
     "text": [
      "+-----------+---------+--------------+\n",
      "|first_name |last_name|other_parts   |\n",
      "+-----------+---------+--------------+\n",
      "|Jennifer   |Banks    |eeeee         |\n",
      "|Stephanie  |Gill     |eeeee         |\n",
      "|Edward     |Sanchez  |NULL          |\n",
      "|Jeremy     |White    |              |\n",
      "|Tyler      |Garcia   |NULL          |\n",
      "|Jennifer   |Conner   |eeeee         |\n",
      "|Kelsey     |         |Richards NOOOO|\n",
      "|Steven     |Williams |NULL          |\n",
      "|Heather    |         |Chase NOOOO   |\n",
      "|Melissa    |Aguilar  |NULL          |\n",
      "|Eddie      |Mendez   |              |\n",
      "|Theresa    |Blackwell|NULL          |\n",
      "|Charles    |Robles   |              |\n",
      "|Jack       |Hill     |NULL          |\n",
      "|Christopher|Castaneda|NULL          |\n",
      "|Ronald     |Carson   |NULL          |\n",
      "|Lisa       |Mendez   |NULL          |\n",
      "|Nathan     |Thomas   |eeeee         |\n",
      "|Justin     |Gay      |NULL          |\n",
      "|Kenneth    |         |Robinson NOOOO|\n",
      "+-----------+---------+--------------+\n",
      "only showing top 20 rows\n",
      "\n"
     ]
    }
   ],
   "source": [
    "df_final.select([\"first_name\", \"last_name\", \"other_parts\"]).limit(30).show(truncate=False)"
   ]
  },
  {
   "cell_type": "code",
   "execution_count": 35,
   "id": "45fb60c7-5413-4a6b-9abd-27e3581bc19f",
   "metadata": {},
   "outputs": [],
   "source": [
    "# some last name is in the other parts. extract it and put in last name column"
   ]
  },
  {
   "cell_type": "code",
   "execution_count": 44,
   "id": "6dddefb7-13b0-4c27-8f48-d0b84e477ea7",
   "metadata": {},
   "outputs": [],
   "source": [
    "df_final = df_final.withColumn(\n",
    "    \"extracted_last_name\",\n",
    "    F.when(\n",
    "        F.col(\"last_name\").isNull() | (F.trim(F.col(\"last_name\")) == \"\"),\n",
    "        F.split(F.col(\"other_parts\"), \" \")[0]\n",
    "    ).otherwise(F.col(\"last_name\"))\n",
    ")\n",
    "\n",
    "df_final = df_final.drop(\"last_name\").withColumnRenamed(\"extracted_last_name\", \"last_name\")"
   ]
  },
  {
   "cell_type": "code",
   "execution_count": 45,
   "id": "abf13452-49f4-4798-a636-0eb0cf8527e4",
   "metadata": {},
   "outputs": [
    {
     "name": "stdout",
     "output_type": "stream",
     "text": [
      "+-----------+---------+--------------+\n",
      "|first_name |last_name|other_parts   |\n",
      "+-----------+---------+--------------+\n",
      "|Jennifer   |Banks    |eeeee         |\n",
      "|Stephanie  |Gill     |eeeee         |\n",
      "|Edward     |Sanchez  |NULL          |\n",
      "|Jeremy     |White    |              |\n",
      "|Tyler      |Garcia   |NULL          |\n",
      "|Jennifer   |Conner   |eeeee         |\n",
      "|Kelsey     |Richards |Richards NOOOO|\n",
      "|Steven     |Williams |NULL          |\n",
      "|Heather    |Chase    |Chase NOOOO   |\n",
      "|Melissa    |Aguilar  |NULL          |\n",
      "|Eddie      |Mendez   |              |\n",
      "|Theresa    |Blackwell|NULL          |\n",
      "|Charles    |Robles   |              |\n",
      "|Jack       |Hill     |NULL          |\n",
      "|Christopher|Castaneda|NULL          |\n",
      "|Ronald     |Carson   |NULL          |\n",
      "|Lisa       |Mendez   |NULL          |\n",
      "|Nathan     |Thomas   |eeeee         |\n",
      "|Justin     |Gay      |NULL          |\n",
      "|Kenneth    |Robinson |Robinson NOOOO|\n",
      "+-----------+---------+--------------+\n",
      "only showing top 20 rows\n",
      "\n"
     ]
    }
   ],
   "source": [
    "df_final.select([\"first_name\", \"last_name\", \"other_parts\"]).limit(30).show(truncate=False)"
   ]
  },
  {
   "cell_type": "code",
   "execution_count": null,
   "id": "728f0f69-9a87-4397-892d-79506fde3df8",
   "metadata": {},
   "outputs": [],
   "source": [
    "df"
   ]
  },
  {
   "cell_type": "code",
   "execution_count": 16,
   "id": "241e7ae6-30b9-4c58-b0df-bfabc3ad2379",
   "metadata": {},
   "outputs": [],
   "source": [
    "# spark.conf.set(\"spark.sql.execution.arrow.pyspark.enabled\", \"true\")"
   ]
  },
  {
   "cell_type": "code",
   "execution_count": 46,
   "id": "c85f100f-3803-43c5-8a6f-5ab7b249d32b",
   "metadata": {},
   "outputs": [],
   "source": [
    "# df_pd = df_dt_converted.toPandas()"
   ]
  },
  {
   "cell_type": "code",
   "execution_count": null,
   "id": "10993252-fdd8-4014-afbb-fff8af152b8a",
   "metadata": {},
   "outputs": [],
   "source": []
  }
 ],
 "metadata": {
  "kernelspec": {
   "display_name": "Python 3 (ipykernel)",
   "language": "python",
   "name": "python3"
  },
  "language_info": {
   "codemirror_mode": {
    "name": "ipython",
    "version": 3
   },
   "file_extension": ".py",
   "mimetype": "text/x-python",
   "name": "python",
   "nbconvert_exporter": "python",
   "pygments_lexer": "ipython3",
   "version": "3.11.6"
  }
 },
 "nbformat": 4,
 "nbformat_minor": 5
}
