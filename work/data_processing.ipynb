{
 "cells": [
  {
   "cell_type": "markdown",
   "id": "7b2847ca-fc97-4885-b2dd-6ec61142f064",
   "metadata": {},
   "source": [
    "# Data processing\n",
    "\n",
    "Summary of the Task:\n",
    "\n",
    "• Objective: Create a Jupyter notebook that accomplishes the following:\n",
    "\n",
    "    o Utilize PySpark to read and transform the provided dataset.\n",
    "    o Generate visualizations that other meaningful insights; be creative and showcase any interesting findings.\n",
    "    o Include markdown explanations detailing your transformation methods and the rationale behind your visualizations.\n",
    "• How to submit your workdone: Please upload the your notebook to GitHub and share us your github link\n",
    "\n",
    "• Dataset Information: The data can be downloaded from Kaggle:\n",
    "    o This dataset pertains to credit card transactions and requires data cleaning due to its messy nature.\n",
    "    \n",
    "• Key Considerations for Data Transformation:\n",
    "\n",
    "    o Handling PII Data: Clearly explain your chosen methods for managing personally identifiable information (PII).\n",
    "    o Data Quality Assurance: Describe how you identify and process dirty data.\n",
    "    o JSON Flattening: Convert JSON data into a tabular format. The expected columns include:\n",
    "```\n",
    "    § Unnamed: 0\n",
    "    § trans_date_trans_time (Transaction Time)\n",
    "    § cc_num (Credit Card Number)\n",
    "    § merchant (Merchant Name)\n",
    "    § category (Merchant Category)\n",
    "    § amt (Transaction Amount)\n",
    "    § first (Credit Card Owner's First Name)\n",
    "    § last (Credit Card Owner's Last Name)\n",
    "    § gender (Credit Card Owner's Gender)\n",
    "    § street (Credit Card Owner's Street Address)\n",
    "    § city (Credit Card Owner's City)\n",
    "    § state (Credit Card Owner's State)\n",
    "    § zip (Credit Card Owner's Zip Code)\n",
    "    § lat (Credit Card Owner's Latitude)\n",
    "    § long (Credit Card Owner's Longitude)\n",
    "    § city_pop (City Population)\n",
    "    § job (Credit Card Owner's Job)\n",
    "    § dob (Credit Card Owner's Date of Birth)\n",
    "    § trans_num (Transaction Number)\n",
    "    § merch_lat (Merchant Latitude)\n",
    "    § merch_long (Merchant Longitude)\n",
    "    § is_fraud (Fraud Case Indicator)\n",
    "    § merch_zipcode (Merchant Zipcode)\n",
    "    § merch_last_update_time (Merchant Last Update Time)\n",
    "    § merch_eff_time (Merchant Effective Registration Time)\n",
    "    § cc_bic (Credit Card BIC Code)\n",
    "```\n",
    "    o Timestamp Conversion: All time-related columns\n",
    "(`trans_date_trans_time`, `merch_last_update_time`,\n",
    "`merch_e?_time` columns) must be converted to a human-readable\n",
    "timestamp format in UTC +8 timezone (e.g., YYYY-MM-DD HH:MM.SSSSSS Z).\n",
    "\n",
    "o Name Derivation: Extract first and last name columns from\n",
    "person_name:\n",
    "§ The expected format is based on \"first, last\" but you may\n",
    "encounter dirty data. Please process the name based on following\n",
    "example:\n",
    "§ person_name: \"Edward, Sanchez\" should result in First:\n",
    "\"Edward\" and Last: \"Sanchez\".\n",
    "\n",
    "o Candidates are expected to identify and clean any dirty data\n",
    "independently."
   ]
  },
  {
   "cell_type": "code",
   "execution_count": 1,
   "id": "5815baf0-3f0a-4cda-846e-52a49cb742a0",
   "metadata": {},
   "outputs": [],
   "source": [
    "import os\n",
    "import sys\n",
    "\n",
    "os.environ['PYSPARK_PYTHON'] = sys.executable\n",
    "os.environ['PYSPARK_DRIVER_PYTHON'] = sys.executable"
   ]
  },
  {
   "cell_type": "code",
   "execution_count": 2,
   "id": "753cf71e-306c-40e1-acc2-8e9b754130e2",
   "metadata": {},
   "outputs": [],
   "source": [
    "import uuid\n",
    "import pandas as pd\n",
    "import pyspark.sql.functions as F\n",
    "from pyspark.sql import SparkSession\n",
    "from pyspark.sql.types import StructType, StructField, StringType, TimestampType"
   ]
  },
  {
   "cell_type": "markdown",
   "id": "b4d40a9c-f403-4748-977c-6939c5aa7791",
   "metadata": {},
   "source": [
    "## Data processing using pyspark"
   ]
  },
  {
   "cell_type": "markdown",
   "id": "41bd9fb1-0fc9-4f17-a93a-3419358f0aa9",
   "metadata": {},
   "source": [
    "Let us first set up spark session to do the necessary data cleansing"
   ]
  },
  {
   "cell_type": "code",
   "execution_count": 3,
   "id": "c6572c87-e6f5-436f-9649-44da6b365f5f",
   "metadata": {},
   "outputs": [],
   "source": [
    "spark = SparkSession.builder \\\n",
    "    .appName(\"JSON Processing\") \\\n",
    "    .master(\"spark://spark-master:7077\") \\\n",
    "    .config(\"spark.driver.memory\", \"4g\") \\\n",
    "    .config(\"spark.executor.memory\", \"4g\") \\\n",
    "    .getOrCreate()"
   ]
  },
  {
   "cell_type": "code",
   "execution_count": 5,
   "id": "1a7056f6-019b-4f15-8a86-8991c3f2f972",
   "metadata": {},
   "outputs": [],
   "source": [
    "# read the data from the json file downloaded from kaggle\n",
    "\n",
    "df = spark.read.json('data/cc_sample_transaction.json')"
   ]
  },
  {
   "cell_type": "code",
   "execution_count": 6,
   "id": "0947ed34-d3d2-447e-8e0d-c5c019c5b0b1",
   "metadata": {},
   "outputs": [
    {
     "name": "stdout",
     "output_type": "stream",
     "text": [
      "+----------+------+-------------+-----------+----------------+--------+----------------+----------------------+------------------+-----------+-------------+--------------------+--------------------+---------------------+--------------------+\n",
      "|Unnamed: 0|   amt|     category|     cc_bic|          cc_num|is_fraud|  merch_eff_time|merch_last_update_time|         merch_lat| merch_long|merch_zipcode|            merchant|     personal_detail|trans_date_trans_time|           trans_num|\n",
      "+----------+------+-------------+-----------+----------------+--------+----------------+----------------------+------------------+-----------+-------------+--------------------+--------------------+---------------------+--------------------+\n",
      "|         0|  4.97|     misc_net|CITIUS33CHI|2703186189652095|       0|1325376018798532|         1325376018666|         36.011293| -82.048315|        28705|fraud_Rippin, Kub...|{\"person_name\":\"J...|  2019-01-01 00:00:18|0b242abb623afc578...|\n",
      "|         1|107.23|  grocery_pos|   ADMDUS41|    630423337322|       0|1325376044867960|          132537604479|49.159046999999994|-118.186462|         NULL|fraud_Heller, Gut...|{\"person_name\":\"S...|  2019-01-01 00:00:44|1f76529f857473494...|\n",
      "|         2|220.11|entertainment|       Null|  38859492057661|       0|1325376051506840|         1325376051286|         43.150704|-112.154481|        83236|fraud_Lind-Buckridge|{\"person_name\":\"E...|  2019-01-01 00:00:51|a1a22d70485983eac...|\n",
      "|         3|  45.0|gas_transport|DEUTUS33TRF|3534093764340240|       0|1325376076794698|         1325376076365|         47.034331|-112.561071|         NULL|fraud_Kutch, Herm...|{\"person_name\":\"J...|  2019-01-01 00:01:16|6b849c168bdad6f86...|\n",
      "|         4| 41.96|     misc_pos|   APBCUS61| 375534208663984|       0|1325376186746376|          132537618681|         38.674999| -78.632459|        22844| fraud_Keeling-Crist|{\"person_name\":\"T...|  2019-01-01 00:03:06|a41d7549acf907893...|\n",
      "+----------+------+-------------+-----------+----------------+--------+----------------+----------------------+------------------+-----------+-------------+--------------------+--------------------+---------------------+--------------------+\n",
      "\n"
     ]
    }
   ],
   "source": [
    "df.limit(5).show(truncate=True)"
   ]
  },
  {
   "cell_type": "code",
   "execution_count": 7,
   "id": "0d1fefba-3afe-4c9a-94fd-a617f7dd9b05",
   "metadata": {},
   "outputs": [],
   "source": [
    "# Define the schema for the main JSON structure. All columns are in string type except for personal_detail. \n",
    "# This column is a nested json. We first define the schema for this column\n",
    "\n",
    "main_schema = StructType([\n",
    "    StructField(\"person_name\", StringType()),\n",
    "    StructField(\"gender\", StringType()),\n",
    "    StructField(\"address\", StringType()), \n",
    "    StructField(\"lat\", StringType()),\n",
    "    StructField(\"long\", StringType()),\n",
    "    StructField(\"city_pop\", StringType()),\n",
    "    StructField(\"job\", StringType()),\n",
    "    StructField(\"dob\", StringType())\n",
    "])\n",
    "\n",
    "# Define schema for the nested address\n",
    "address_schema = StructType([\n",
    "    StructField(\"street\", StringType()),\n",
    "    StructField(\"city\", StringType()),\n",
    "    StructField(\"state\", StringType()),\n",
    "    StructField(\"zip\", StringType())\n",
    "])"
   ]
  },
  {
   "cell_type": "code",
   "execution_count": 8,
   "id": "20788d27-4587-465c-bcab-722682439fd2",
   "metadata": {},
   "outputs": [],
   "source": [
    "df_parsed = df.withColumn(\"personal_detail_parsed\", F.from_json(F.col(\"personal_detail\"), main_schema))"
   ]
  },
  {
   "cell_type": "code",
   "execution_count": 9,
   "id": "31234f05-902b-4557-9bee-8f795ba7be47",
   "metadata": {},
   "outputs": [],
   "source": [
    "df_address = df_parsed.withColumn(\"address_parsed\", F.from_json(F.col(\"personal_detail_parsed.address\"), address_schema))"
   ]
  },
  {
   "cell_type": "code",
   "execution_count": 10,
   "id": "2c27360c-868a-46f2-b96d-520d2e11670a",
   "metadata": {},
   "outputs": [],
   "source": [
    "# Extract all fields\n",
    "df_final = df_address.select(\n",
    "    \"*\",\n",
    "    F.col(\"personal_detail_parsed.person_name\").alias(\"person_name\"),\n",
    "    F.col(\"personal_detail_parsed.gender\").alias(\"gender\"),\n",
    "    F.col(\"address_parsed.street\").alias(\"street\"),\n",
    "    F.col(\"address_parsed.city\").alias(\"city\"),\n",
    "    F.col(\"address_parsed.state\").alias(\"state\"),\n",
    "    F.col(\"address_parsed.zip\").alias(\"zip\"),\n",
    "    F.col(\"personal_detail_parsed.lat\").alias(\"latitude\"),\n",
    "    F.col(\"personal_detail_parsed.long\").alias(\"longitude\"),\n",
    "    F.col(\"personal_detail_parsed.city_pop\").alias(\"city_population\"),\n",
    "    F.col(\"personal_detail_parsed.job\").alias(\"job\"),\n",
    "    F.col(\"personal_detail_parsed.dob\").alias(\"dob\")\n",
    ").drop(\"personal_detail\", \"personal_detail_parsed\", \"address_parsed\")"
   ]
  },
  {
   "cell_type": "code",
   "execution_count": 11,
   "id": "bad71ef3-23dd-4d9f-b84e-e3e0be874095",
   "metadata": {},
   "outputs": [
    {
     "name": "stdout",
     "output_type": "stream",
     "text": [
      "+----------+----+--------+-----------+----------------+--------+----------------+----------------------+---------+----------+-------------+--------------------+---------------------+--------------------+--------------------+------+--------------+--------------+-----+-----+--------+---------+---------------+--------------------+----------+\n",
      "|Unnamed: 0| amt|category|     cc_bic|          cc_num|is_fraud|  merch_eff_time|merch_last_update_time|merch_lat|merch_long|merch_zipcode|            merchant|trans_date_trans_time|           trans_num|         person_name|gender|        street|          city|state|  zip|latitude|longitude|city_population|                 job|       dob|\n",
      "+----------+----+--------+-----------+----------------+--------+----------------+----------------------+---------+----------+-------------+--------------------+---------------------+--------------------+--------------------+------+--------------+--------------+-----+-----+--------+---------+---------------+--------------------+----------+\n",
      "|         0|4.97|misc_net|CITIUS33CHI|2703186189652095|       0|1325376018798532|         1325376018666|36.011293|-82.048315|        28705|fraud_Rippin, Kub...|  2019-01-01 00:00:18|0b242abb623afc578...|Jennifer,Banks,eeeee|     F|561 Perry Cove|Moravian Falls|   NC|28654| 36.0788| -81.1781|           3495|Psychologist, cou...|1988-03-09|\n",
      "+----------+----+--------+-----------+----------------+--------+----------------+----------------------+---------+----------+-------------+--------------------+---------------------+--------------------+--------------------+------+--------------+--------------+-----+-----+--------+---------+---------------+--------------------+----------+\n",
      "\n"
     ]
    }
   ],
   "source": [
    "df_final.limit(1).show()"
   ]
  },
  {
   "cell_type": "code",
   "execution_count": 12,
   "id": "398fc029-839e-4222-ae7e-da0ece5994ab",
   "metadata": {},
   "outputs": [],
   "source": [
    "# not working solution, since the timestamp columns are not of equal length. Suspected one column in millisecond, and one in nanosecond\n",
    "\n",
    "dt_cols = [\"merch_eff_time\", \"merch_last_update_time\"]\n",
    "for col_name in dt_cols:\n",
    "    df_dt_converted = df_final.withColumn(col_name, F.date_format(\n",
    "        F.from_utc_timestamp(\n",
    "            (F.col(col_name) / 1000).cast(TimestampType()), \n",
    "            \"Asia/Kuala_Lumpur\"\n",
    "        ),\n",
    "        \"yyyy-MM-dd HH:mm:ss\"\n",
    "    ))"
   ]
  },
  {
   "cell_type": "code",
   "execution_count": 13,
   "id": "4fec372f-260f-4651-b812-2475e18c71ba",
   "metadata": {},
   "outputs": [
    {
     "name": "stdout",
     "output_type": "stream",
     "text": [
      "+----------------+----------------------+\n",
      "|  merch_eff_time|merch_last_update_time|\n",
      "+----------------+----------------------+\n",
      "|1325376018798532|   2012-01-01 08:00:18|\n",
      "|1325376044867960|   1974-03-15 07:30:04|\n",
      "+----------------+----------------------+\n",
      "\n"
     ]
    }
   ],
   "source": [
    "df_dt_converted.select([\"merch_eff_time\", \"merch_last_update_time\"]).limit(2).show()"
   ]
  },
  {
   "cell_type": "code",
   "execution_count": 14,
   "id": "5c6d5ff6-1014-4549-92ae-503ca74ec8cf",
   "metadata": {},
   "outputs": [],
   "source": [
    "# working solution, divided the timestamp accordingly\n",
    "\n",
    "df_dt_converted = df_final.withColumn(\"merch_last_update_time\", F.date_format(\n",
    "        F.from_utc_timestamp(\n",
    "            (F.col(\"merch_last_update_time\") / 1000).cast(TimestampType()), \n",
    "            \"Asia/Kuala_Lumpur\"\n",
    "        ),\n",
    "        \"yyyy-MM-dd HH:mm:ss\"\n",
    "    ))\\\n",
    "    .withColumn(\"merch_eff_time\", F.date_format(\n",
    "        F.from_utc_timestamp(\n",
    "            (F.col(\"merch_eff_time\") / 1000000).cast(TimestampType()), \n",
    "            \"Asia/Kuala_Lumpur\"\n",
    "        ),\n",
    "        \"yyyy-MM-dd HH:mm:ss\"\n",
    "    ))\\\n",
    "    .withColumn(\"trans_date_trans_time\", F.date_format(\n",
    "        F.from_utc_timestamp(\n",
    "            (F.col(\"trans_date_trans_time\")).cast(TimestampType()), \n",
    "            \"Asia/Kuala_Lumpur\"\n",
    "        ),\n",
    "        \"yyyy-MM-dd HH:mm:ss\"\n",
    "    ))"
   ]
  },
  {
   "cell_type": "code",
   "execution_count": 15,
   "id": "f1c65700-5b2c-4eb2-85ba-4ae4055aef40",
   "metadata": {},
   "outputs": [
    {
     "name": "stdout",
     "output_type": "stream",
     "text": [
      "+-------------------+----------------------+---------------------+\n",
      "|merch_eff_time     |merch_last_update_time|trans_date_trans_time|\n",
      "+-------------------+----------------------+---------------------+\n",
      "|2012-01-01 08:00:18|2012-01-01 08:00:18   |2019-01-01 08:00:18  |\n",
      "|2012-01-01 08:00:44|1974-03-15 07:30:04   |2019-01-01 08:00:44  |\n",
      "|2012-01-01 08:00:51|2012-01-01 08:00:51   |2019-01-01 08:00:51  |\n",
      "|2012-01-01 08:01:16|2012-01-01 08:01:16   |2019-01-01 08:01:16  |\n",
      "|2012-01-01 08:03:06|1974-03-15 07:30:18   |2019-01-01 08:03:06  |\n",
      "|2012-01-01 08:04:08|2012-01-01 08:04:08   |2019-01-01 08:04:08  |\n",
      "|2012-01-01 08:04:42|2012-01-01 08:04:42   |2019-01-01 08:04:42  |\n",
      "|2012-01-01 08:05:08|2012-01-01 08:05:08   |2019-01-01 08:05:08  |\n",
      "|2012-01-01 08:05:18|2012-01-01 08:05:18   |2019-01-01 08:05:18  |\n",
      "|2012-01-01 08:06:01|2012-01-01 08:06:01   |2019-01-01 08:06:01  |\n",
      "+-------------------+----------------------+---------------------+\n",
      "\n"
     ]
    }
   ],
   "source": [
    "# the timestamp column looks good\n",
    "df_dt_converted.select([\"merch_eff_time\", \"merch_last_update_time\", \"trans_date_trans_time\"]).limit(10).show(truncate=False)"
   ]
  },
  {
   "cell_type": "code",
   "execution_count": 16,
   "id": "a75fa1e1-41de-4f63-839a-9ba05d107bb2",
   "metadata": {},
   "outputs": [
    {
     "name": "stdout",
     "output_type": "stream",
     "text": [
      "+-------------------------+\n",
      "|person_name              |\n",
      "+-------------------------+\n",
      "|Jennifer,Banks,eeeee     |\n",
      "|Stephanie,Gill,eeeee     |\n",
      "|Edward@Sanchez           |\n",
      "|Jeremy/White, !          |\n",
      "|Tyler@Garcia             |\n",
      "|Jennifer,Conner,eeeee    |\n",
      "|Kelsey, , Richards NOOOO |\n",
      "|Steven, Williams         |\n",
      "|Heather, , Chase NOOOO   |\n",
      "|Melissa@Aguilar          |\n",
      "|Eddie|Mendez!!!          |\n",
      "|Theresa@Blackwell        |\n",
      "|Charles|Robles!!!        |\n",
      "|Jack@Hill                |\n",
      "|Christopher@Castaneda    |\n",
      "|Ronald@Carson            |\n",
      "|Lisa, Mendez             |\n",
      "|Nathan,Thomas,eeeee      |\n",
      "|Justin, Gay              |\n",
      "|Kenneth, , Robinson NOOOO|\n",
      "+-------------------------+\n",
      "\n"
     ]
    }
   ],
   "source": [
    "# the column person_name is dirty. we need to extract first and last name from this column\n",
    "\n",
    "df_dt_converted.select([\"person_name\"]).limit(20).show(truncate=False)"
   ]
  },
  {
   "cell_type": "code",
   "execution_count": 17,
   "id": "cff1b03d-c7cd-4f72-a5de-6d8f0da8dd9d",
   "metadata": {},
   "outputs": [],
   "source": [
    "# Normalize delimiters and remove unwanted characters, replace '@', '/', '|', and '!' with ','\n",
    "df_normalized = df_dt_converted.withColumn(\n",
    "    \"person_name\",\n",
    "    F.regexp_replace(\"person_name\", r\"[@/|!]+\", \",\")  \n",
    ")\n",
    "\n",
    "# Split the column into an array\n",
    "df_split = df_normalized.withColumn(\n",
    "    \"name_parts\",\n",
    "    F.split(\"person_name\", \",\")\n",
    ")\n",
    "\n",
    "# Extract first name, last name, and put the rest in other parts\n",
    "df_final = df_split.withColumn(\"first_name\", F.trim(df_split[\"name_parts\"][0])) \\\n",
    "                   .withColumn(\"last_name\", F.trim(df_split[\"name_parts\"][1])) \\\n",
    "                   .withColumn(\"other_parts\", F.trim(df_split[\"name_parts\"][2]))"
   ]
  },
  {
   "cell_type": "code",
   "execution_count": 18,
   "id": "42c3bf0c-55ba-4e13-b4f7-e3ccef594560",
   "metadata": {},
   "outputs": [
    {
     "name": "stdout",
     "output_type": "stream",
     "text": [
      "+-----------+---------+--------------+\n",
      "|first_name |last_name|other_parts   |\n",
      "+-----------+---------+--------------+\n",
      "|Jennifer   |Banks    |eeeee         |\n",
      "|Stephanie  |Gill     |eeeee         |\n",
      "|Edward     |Sanchez  |NULL          |\n",
      "|Jeremy     |White    |              |\n",
      "|Tyler      |Garcia   |NULL          |\n",
      "|Jennifer   |Conner   |eeeee         |\n",
      "|Kelsey     |         |Richards NOOOO|\n",
      "|Steven     |Williams |NULL          |\n",
      "|Heather    |         |Chase NOOOO   |\n",
      "|Melissa    |Aguilar  |NULL          |\n",
      "|Eddie      |Mendez   |              |\n",
      "|Theresa    |Blackwell|NULL          |\n",
      "|Charles    |Robles   |              |\n",
      "|Jack       |Hill     |NULL          |\n",
      "|Christopher|Castaneda|NULL          |\n",
      "|Ronald     |Carson   |NULL          |\n",
      "|Lisa       |Mendez   |NULL          |\n",
      "|Nathan     |Thomas   |eeeee         |\n",
      "|Justin     |Gay      |NULL          |\n",
      "|Kenneth    |         |Robinson NOOOO|\n",
      "+-----------+---------+--------------+\n",
      "only showing top 20 rows\n",
      "\n"
     ]
    }
   ],
   "source": [
    "# some last name is in the other parts. extract it and put in last name column\n",
    "df_final.select([\"first_name\", \"last_name\", \"other_parts\"]).limit(30).show(truncate=False)"
   ]
  },
  {
   "cell_type": "code",
   "execution_count": 19,
   "id": "6dddefb7-13b0-4c27-8f48-d0b84e477ea7",
   "metadata": {},
   "outputs": [],
   "source": [
    "df_final = df_final.withColumn(\n",
    "    \"extracted_last_name\",\n",
    "    F.when(\n",
    "        F.col(\"last_name\").isNull() | (F.trim(F.col(\"last_name\")) == \"\"),\n",
    "        F.split(F.col(\"other_parts\"), \" \")[0]\n",
    "    ).otherwise(F.col(\"last_name\"))\n",
    ")\n",
    "\n",
    "df_final = df_final.drop(\"last_name\", \"other_parts\", \"name_parts\").withColumnRenamed(\"extracted_last_name\", \"last_name\")"
   ]
  },
  {
   "cell_type": "code",
   "execution_count": 20,
   "id": "abf13452-49f4-4798-a636-0eb0cf8527e4",
   "metadata": {},
   "outputs": [
    {
     "name": "stdout",
     "output_type": "stream",
     "text": [
      "+-----------+---------+\n",
      "|first_name |last_name|\n",
      "+-----------+---------+\n",
      "|Jennifer   |Banks    |\n",
      "|Stephanie  |Gill     |\n",
      "|Edward     |Sanchez  |\n",
      "|Jeremy     |White    |\n",
      "|Tyler      |Garcia   |\n",
      "|Jennifer   |Conner   |\n",
      "|Kelsey     |Richards |\n",
      "|Steven     |Williams |\n",
      "|Heather    |Chase    |\n",
      "|Melissa    |Aguilar  |\n",
      "|Eddie      |Mendez   |\n",
      "|Theresa    |Blackwell|\n",
      "|Charles    |Robles   |\n",
      "|Jack       |Hill     |\n",
      "|Christopher|Castaneda|\n",
      "|Ronald     |Carson   |\n",
      "|Lisa       |Mendez   |\n",
      "|Nathan     |Thomas   |\n",
      "|Justin     |Gay      |\n",
      "|Kenneth    |Robinson |\n",
      "+-----------+---------+\n",
      "only showing top 20 rows\n",
      "\n"
     ]
    }
   ],
   "source": [
    "# These two columns are now looking good\n",
    "df_final.select([\"first_name\", \"last_name\"]).limit(30).show(truncate=False)"
   ]
  },
  {
   "cell_type": "markdown",
   "id": "4cab1c6c-0134-48a7-862e-b690dc37346e",
   "metadata": {},
   "source": [
    "# Data analysis and visualization using pandas\n",
    "\n",
    "Pyspark is not a equipped with the numerous tools to do data visualization. Let's convert this dataframe into pandas dataframe to further process and do data analysis"
   ]
  },
  {
   "cell_type": "code",
   "execution_count": 22,
   "id": "51499d08-4942-4f1e-8d15-2d51ee085432",
   "metadata": {},
   "outputs": [],
   "source": [
    "import matplotlib.pyplot as plt\n",
    "import seaborn as sns"
   ]
  },
  {
   "cell_type": "code",
   "execution_count": 23,
   "id": "c85f100f-3803-43c5-8a6f-5ab7b249d32b",
   "metadata": {},
   "outputs": [],
   "source": [
    "df_pd = df_final.toPandas()"
   ]
  },
  {
   "cell_type": "code",
   "execution_count": 24,
   "id": "10993252-fdd8-4014-afbb-fff8af152b8a",
   "metadata": {},
   "outputs": [
    {
     "name": "stdout",
     "output_type": "stream",
     "text": [
      "  Unnamed: 0     amt       category       cc_bic            cc_num is_fraud  \\\n",
      "0          0    4.97       misc_net  CITIUS33CHI  2703186189652095        0   \n",
      "1          1  107.23    grocery_pos     ADMDUS41      630423337322        0   \n",
      "2          2  220.11  entertainment         Null    38859492057661        0   \n",
      "3          3    45.0  gas_transport  DEUTUS33TRF  3534093764340240        0   \n",
      "4          4   41.96       misc_pos     APBCUS61   375534208663984        0   \n",
      "\n",
      "        merch_eff_time merch_last_update_time           merch_lat  \\\n",
      "0  2012-01-01 08:00:18    2012-01-01 08:00:18           36.011293   \n",
      "1  2012-01-01 08:00:44    1974-03-15 07:30:04  49.159046999999994   \n",
      "2  2012-01-01 08:00:51    2012-01-01 08:00:51           43.150704   \n",
      "3  2012-01-01 08:01:16    2012-01-01 08:01:16           47.034331   \n",
      "4  2012-01-01 08:03:06    1974-03-15 07:30:18           38.674999   \n",
      "\n",
      "    merch_long merch_zipcode                            merchant  \\\n",
      "0   -82.048315         28705          fraud_Rippin, Kub and Mann   \n",
      "1  -118.186462          None     fraud_Heller, Gutmann and Zieme   \n",
      "2  -112.154481         83236                fraud_Lind-Buckridge   \n",
      "3  -112.561071          None  fraud_Kutch, Hermiston and Farrell   \n",
      "4   -78.632459         22844                 fraud_Keeling-Crist   \n",
      "\n",
      "  trans_date_trans_time                         trans_num  \\\n",
      "0   2019-01-01 08:00:18  0b242abb623afc578575680df30655b9   \n",
      "1   2019-01-01 08:00:44  1f76529f8574734946361c461b024d99   \n",
      "2   2019-01-01 08:00:51  a1a22d70485983eac12b5b88dad1cf95   \n",
      "3   2019-01-01 08:01:16  6b849c168bdad6f867558c3793159a81   \n",
      "4   2019-01-01 08:03:06  a41d7549acf90789359a9aa5346dcb46   \n",
      "\n",
      "            person_name gender                        street            city  \\\n",
      "0  Jennifer,Banks,eeeee      F                561 Perry Cove  Moravian Falls   \n",
      "1  Stephanie,Gill,eeeee      F  43039 Riley Greens Suite 393          Orient   \n",
      "2        Edward,Sanchez      M      594 White Dale Suite 530      Malad City   \n",
      "3       Jeremy,White, ,      M   9443 Cynthia Court Apt. 038         Boulder   \n",
      "4          Tyler,Garcia      M              408 Bradley Rest        Doe Hill   \n",
      "\n",
      "  state    zip latitude  longitude city_population  \\\n",
      "0    NC  28654  36.0788   -81.1781            3495   \n",
      "1    WA  99160  48.8878  -118.2105             149   \n",
      "2    ID  83252  42.1808   -112.262            4154   \n",
      "3    MT  59632  46.2306  -112.1138            1939   \n",
      "4    VA  24433  38.4207   -79.4629              99   \n",
      "\n",
      "                                 job         dob first_name last_name  \n",
      "0          Psychologist, counselling  1988-03-09   Jennifer     Banks  \n",
      "1  Special educational needs teacher  1978-06-21  Stephanie      Gill  \n",
      "2        Nature conservation officer  1962-01-19     Edward   Sanchez  \n",
      "3                    Patent attorney  1967-01-12     Jeremy     White  \n",
      "4     Dance movement psychotherapist  1986-03-28      Tyler    Garcia  \n"
     ]
    }
   ],
   "source": [
    "# take a look at processed pandas dataframe\n",
    "with pd.option_context('display.max_columns', None, 'display.max_rows', None, 'display.width', None):\n",
    "    print(df_pd.head())"
   ]
  },
  {
   "cell_type": "code",
   "execution_count": 25,
   "id": "ed134061-8d88-4c39-a0fc-a752496ddb5d",
   "metadata": {},
   "outputs": [
    {
     "name": "stdout",
     "output_type": "stream",
     "text": [
      "<class 'pandas.core.frame.DataFrame'>\n",
      "RangeIndex: 1296675 entries, 0 to 1296674\n",
      "Data columns (total 27 columns):\n",
      " #   Column                  Non-Null Count    Dtype \n",
      "---  ------                  --------------    ----- \n",
      " 0   Unnamed: 0              1296675 non-null  object\n",
      " 1   amt                     1296675 non-null  object\n",
      " 2   category                1296675 non-null  object\n",
      " 3   cc_bic                  1296675 non-null  object\n",
      " 4   cc_num                  1296675 non-null  object\n",
      " 5   is_fraud                1296675 non-null  object\n",
      " 6   merch_eff_time          1296675 non-null  object\n",
      " 7   merch_last_update_time  1296675 non-null  object\n",
      " 8   merch_lat               1296675 non-null  object\n",
      " 9   merch_long              1296675 non-null  object\n",
      " 10  merch_zipcode           1100702 non-null  object\n",
      " 11  merchant                1296675 non-null  object\n",
      " 12  trans_date_trans_time   1296675 non-null  object\n",
      " 13  trans_num               1296675 non-null  object\n",
      " 14  person_name             1296675 non-null  object\n",
      " 15  gender                  1296675 non-null  object\n",
      " 16  street                  1296675 non-null  object\n",
      " 17  city                    1296675 non-null  object\n",
      " 18  state                   1296675 non-null  object\n",
      " 19  zip                     1296675 non-null  object\n",
      " 20  latitude                1296675 non-null  object\n",
      " 21  longitude               1296675 non-null  object\n",
      " 22  city_population         1296675 non-null  object\n",
      " 23  job                     1296675 non-null  object\n",
      " 24  dob                     1296675 non-null  object\n",
      " 25  first_name              1296675 non-null  object\n",
      " 26  last_name               1296675 non-null  object\n",
      "dtypes: object(27)\n",
      "memory usage: 267.1+ MB\n"
     ]
    }
   ],
   "source": [
    "# look at some basic info on the data\n",
    "df_pd.info()"
   ]
  },
  {
   "cell_type": "code",
   "execution_count": 27,
   "id": "c3ecede7-131b-4b0e-a3e1-a2611b800fb6",
   "metadata": {},
   "outputs": [],
   "source": [
    "# save processed data to continue later\n",
    "df_pd.to_parquet(\"data/processed_data.parquet\")"
   ]
  },
  {
   "cell_type": "code",
   "execution_count": 26,
   "id": "30971d10-97e4-4f8e-b7bc-d1703dc8a9ee",
   "metadata": {},
   "outputs": [],
   "source": [
    "# start from where we left off\n",
    "\n",
    "df_pd = pd.read_parquet(\"data/processed_data.parquet\")"
   ]
  },
  {
   "cell_type": "code",
   "execution_count": 27,
   "id": "26eb290e-be98-43f1-a419-a1b65d0e370f",
   "metadata": {},
   "outputs": [],
   "source": [
    "# change to proper data type since the original data from the json file is mostly in string format"
   ]
  },
  {
   "cell_type": "code",
   "execution_count": 28,
   "id": "dd0fa3e5-f48b-4f6e-a20e-6fc4d7063009",
   "metadata": {},
   "outputs": [
    {
     "data": {
      "text/plain": [
       "Index(['Unnamed: 0', 'amt', 'category', 'cc_bic', 'cc_num', 'is_fraud',\n",
       "       'merch_eff_time', 'merch_last_update_time', 'merch_lat', 'merch_long',\n",
       "       'merch_zipcode', 'merchant', 'trans_date_trans_time', 'trans_num',\n",
       "       'person_name', 'gender', 'street', 'city', 'state', 'zip', 'latitude',\n",
       "       'longitude', 'city_population', 'job', 'dob', 'first_name',\n",
       "       'last_name'],\n",
       "      dtype='object')"
      ]
     },
     "execution_count": 28,
     "metadata": {},
     "output_type": "execute_result"
    }
   ],
   "source": [
    "# list the column for easier copy and paste\n",
    "df_pd.columns"
   ]
  },
  {
   "cell_type": "code",
   "execution_count": 29,
   "id": "15ef008b-d6b1-4dc8-9ea4-39af2e0b8cb3",
   "metadata": {},
   "outputs": [],
   "source": [
    "# identify the columns that need to be converted to the correct data type\n",
    "datetime_cols = [\"merch_eff_time\", \"merch_last_update_time\", \"trans_date_trans_time\", \"dob\"]\n",
    "int_cols = [\"city_population\",]\n",
    "float_cols = [\"amt\", \"latitude\", \"longitude\"]"
   ]
  },
  {
   "cell_type": "code",
   "execution_count": 30,
   "id": "797fbcf6-0271-4320-b939-e3fc30c76681",
   "metadata": {},
   "outputs": [],
   "source": [
    "df_pd[datetime_cols] = df_pd[datetime_cols].apply(lambda x: pd.to_datetime(x, errors='coerce'))\n",
    "df_pd[int_cols] = df_pd[int_cols].astype(\"int64\")\n",
    "df_pd[float_cols] = df_pd[float_cols].astype(\"float64\")"
   ]
  },
  {
   "cell_type": "code",
   "execution_count": 31,
   "id": "e71d8ad9-6421-4dcd-a245-083c48329653",
   "metadata": {},
   "outputs": [
    {
     "name": "stdout",
     "output_type": "stream",
     "text": [
      "<class 'pandas.core.frame.DataFrame'>\n",
      "RangeIndex: 1296675 entries, 0 to 1296674\n",
      "Data columns (total 27 columns):\n",
      " #   Column                  Non-Null Count    Dtype         \n",
      "---  ------                  --------------    -----         \n",
      " 0   Unnamed: 0              1296675 non-null  object        \n",
      " 1   amt                     1296675 non-null  float64       \n",
      " 2   category                1296675 non-null  object        \n",
      " 3   cc_bic                  1296675 non-null  object        \n",
      " 4   cc_num                  1296675 non-null  object        \n",
      " 5   is_fraud                1296675 non-null  object        \n",
      " 6   merch_eff_time          1296675 non-null  datetime64[ns]\n",
      " 7   merch_last_update_time  1296675 non-null  datetime64[ns]\n",
      " 8   merch_lat               1296675 non-null  object        \n",
      " 9   merch_long              1296675 non-null  object        \n",
      " 10  merch_zipcode           1100702 non-null  object        \n",
      " 11  merchant                1296675 non-null  object        \n",
      " 12  trans_date_trans_time   1296675 non-null  datetime64[ns]\n",
      " 13  trans_num               1296675 non-null  object        \n",
      " 14  person_name             1296675 non-null  object        \n",
      " 15  gender                  1296675 non-null  object        \n",
      " 16  street                  1296675 non-null  object        \n",
      " 17  city                    1296675 non-null  object        \n",
      " 18  state                   1296675 non-null  object        \n",
      " 19  zip                     1296675 non-null  object        \n",
      " 20  latitude                1296675 non-null  float64       \n",
      " 21  longitude               1296675 non-null  float64       \n",
      " 22  city_population         1296675 non-null  int64         \n",
      " 23  job                     1296675 non-null  object        \n",
      " 24  dob                     1296675 non-null  datetime64[ns]\n",
      " 25  first_name              1296675 non-null  object        \n",
      " 26  last_name               1296675 non-null  object        \n",
      "dtypes: datetime64[ns](4), float64(3), int64(1), object(19)\n",
      "memory usage: 267.1+ MB\n"
     ]
    }
   ],
   "source": [
    "# now the columns are in right format\n",
    "df_pd.info()"
   ]
  },
  {
   "cell_type": "code",
   "execution_count": 32,
   "id": "bb6c0559-ba70-4038-9561-f74af9219b24",
   "metadata": {},
   "outputs": [
    {
     "data": {
      "text/html": [
       "<div>\n",
       "<style scoped>\n",
       "    .dataframe tbody tr th:only-of-type {\n",
       "        vertical-align: middle;\n",
       "    }\n",
       "\n",
       "    .dataframe tbody tr th {\n",
       "        vertical-align: top;\n",
       "    }\n",
       "\n",
       "    .dataframe thead th {\n",
       "        text-align: right;\n",
       "    }\n",
       "</style>\n",
       "<table border=\"1\" class=\"dataframe\">\n",
       "  <thead>\n",
       "    <tr style=\"text-align: right;\">\n",
       "      <th></th>\n",
       "      <th>Unnamed: 0</th>\n",
       "      <th>amt</th>\n",
       "      <th>category</th>\n",
       "      <th>cc_bic</th>\n",
       "      <th>cc_num</th>\n",
       "      <th>is_fraud</th>\n",
       "      <th>merch_eff_time</th>\n",
       "      <th>merch_last_update_time</th>\n",
       "      <th>merch_lat</th>\n",
       "      <th>merch_long</th>\n",
       "      <th>...</th>\n",
       "      <th>city</th>\n",
       "      <th>state</th>\n",
       "      <th>zip</th>\n",
       "      <th>latitude</th>\n",
       "      <th>longitude</th>\n",
       "      <th>city_population</th>\n",
       "      <th>job</th>\n",
       "      <th>dob</th>\n",
       "      <th>first_name</th>\n",
       "      <th>last_name</th>\n",
       "    </tr>\n",
       "  </thead>\n",
       "  <tbody>\n",
       "    <tr>\n",
       "      <th>0</th>\n",
       "      <td>0</td>\n",
       "      <td>4.97</td>\n",
       "      <td>misc_net</td>\n",
       "      <td>CITIUS33CHI</td>\n",
       "      <td>2703186189652095</td>\n",
       "      <td>0</td>\n",
       "      <td>2012-01-01 08:00:18</td>\n",
       "      <td>2012-01-01 08:00:18</td>\n",
       "      <td>36.011293</td>\n",
       "      <td>-82.048315</td>\n",
       "      <td>...</td>\n",
       "      <td>Moravian Falls</td>\n",
       "      <td>NC</td>\n",
       "      <td>28654</td>\n",
       "      <td>36.0788</td>\n",
       "      <td>-81.1781</td>\n",
       "      <td>3495</td>\n",
       "      <td>Psychologist, counselling</td>\n",
       "      <td>1988-03-09</td>\n",
       "      <td>Jennifer</td>\n",
       "      <td>Banks</td>\n",
       "    </tr>\n",
       "    <tr>\n",
       "      <th>1</th>\n",
       "      <td>1</td>\n",
       "      <td>107.23</td>\n",
       "      <td>grocery_pos</td>\n",
       "      <td>ADMDUS41</td>\n",
       "      <td>630423337322</td>\n",
       "      <td>0</td>\n",
       "      <td>2012-01-01 08:00:44</td>\n",
       "      <td>1974-03-15 07:30:04</td>\n",
       "      <td>49.159046999999994</td>\n",
       "      <td>-118.186462</td>\n",
       "      <td>...</td>\n",
       "      <td>Orient</td>\n",
       "      <td>WA</td>\n",
       "      <td>99160</td>\n",
       "      <td>48.8878</td>\n",
       "      <td>-118.2105</td>\n",
       "      <td>149</td>\n",
       "      <td>Special educational needs teacher</td>\n",
       "      <td>1978-06-21</td>\n",
       "      <td>Stephanie</td>\n",
       "      <td>Gill</td>\n",
       "    </tr>\n",
       "    <tr>\n",
       "      <th>2</th>\n",
       "      <td>2</td>\n",
       "      <td>220.11</td>\n",
       "      <td>entertainment</td>\n",
       "      <td>Null</td>\n",
       "      <td>38859492057661</td>\n",
       "      <td>0</td>\n",
       "      <td>2012-01-01 08:00:51</td>\n",
       "      <td>2012-01-01 08:00:51</td>\n",
       "      <td>43.150704</td>\n",
       "      <td>-112.154481</td>\n",
       "      <td>...</td>\n",
       "      <td>Malad City</td>\n",
       "      <td>ID</td>\n",
       "      <td>83252</td>\n",
       "      <td>42.1808</td>\n",
       "      <td>-112.2620</td>\n",
       "      <td>4154</td>\n",
       "      <td>Nature conservation officer</td>\n",
       "      <td>1962-01-19</td>\n",
       "      <td>Edward</td>\n",
       "      <td>Sanchez</td>\n",
       "    </tr>\n",
       "    <tr>\n",
       "      <th>3</th>\n",
       "      <td>3</td>\n",
       "      <td>45.00</td>\n",
       "      <td>gas_transport</td>\n",
       "      <td>DEUTUS33TRF</td>\n",
       "      <td>3534093764340240</td>\n",
       "      <td>0</td>\n",
       "      <td>2012-01-01 08:01:16</td>\n",
       "      <td>2012-01-01 08:01:16</td>\n",
       "      <td>47.034331</td>\n",
       "      <td>-112.561071</td>\n",
       "      <td>...</td>\n",
       "      <td>Boulder</td>\n",
       "      <td>MT</td>\n",
       "      <td>59632</td>\n",
       "      <td>46.2306</td>\n",
       "      <td>-112.1138</td>\n",
       "      <td>1939</td>\n",
       "      <td>Patent attorney</td>\n",
       "      <td>1967-01-12</td>\n",
       "      <td>Jeremy</td>\n",
       "      <td>White</td>\n",
       "    </tr>\n",
       "    <tr>\n",
       "      <th>4</th>\n",
       "      <td>4</td>\n",
       "      <td>41.96</td>\n",
       "      <td>misc_pos</td>\n",
       "      <td>APBCUS61</td>\n",
       "      <td>375534208663984</td>\n",
       "      <td>0</td>\n",
       "      <td>2012-01-01 08:03:06</td>\n",
       "      <td>1974-03-15 07:30:18</td>\n",
       "      <td>38.674999</td>\n",
       "      <td>-78.632459</td>\n",
       "      <td>...</td>\n",
       "      <td>Doe Hill</td>\n",
       "      <td>VA</td>\n",
       "      <td>24433</td>\n",
       "      <td>38.4207</td>\n",
       "      <td>-79.4629</td>\n",
       "      <td>99</td>\n",
       "      <td>Dance movement psychotherapist</td>\n",
       "      <td>1986-03-28</td>\n",
       "      <td>Tyler</td>\n",
       "      <td>Garcia</td>\n",
       "    </tr>\n",
       "  </tbody>\n",
       "</table>\n",
       "<p>5 rows × 27 columns</p>\n",
       "</div>"
      ],
      "text/plain": [
       "  Unnamed: 0     amt       category       cc_bic            cc_num is_fraud  \\\n",
       "0          0    4.97       misc_net  CITIUS33CHI  2703186189652095        0   \n",
       "1          1  107.23    grocery_pos     ADMDUS41      630423337322        0   \n",
       "2          2  220.11  entertainment         Null    38859492057661        0   \n",
       "3          3   45.00  gas_transport  DEUTUS33TRF  3534093764340240        0   \n",
       "4          4   41.96       misc_pos     APBCUS61   375534208663984        0   \n",
       "\n",
       "       merch_eff_time merch_last_update_time           merch_lat   merch_long  \\\n",
       "0 2012-01-01 08:00:18    2012-01-01 08:00:18           36.011293   -82.048315   \n",
       "1 2012-01-01 08:00:44    1974-03-15 07:30:04  49.159046999999994  -118.186462   \n",
       "2 2012-01-01 08:00:51    2012-01-01 08:00:51           43.150704  -112.154481   \n",
       "3 2012-01-01 08:01:16    2012-01-01 08:01:16           47.034331  -112.561071   \n",
       "4 2012-01-01 08:03:06    1974-03-15 07:30:18           38.674999   -78.632459   \n",
       "\n",
       "   ...            city state    zip latitude longitude city_population  \\\n",
       "0  ...  Moravian Falls    NC  28654  36.0788  -81.1781            3495   \n",
       "1  ...          Orient    WA  99160  48.8878 -118.2105             149   \n",
       "2  ...      Malad City    ID  83252  42.1808 -112.2620            4154   \n",
       "3  ...         Boulder    MT  59632  46.2306 -112.1138            1939   \n",
       "4  ...        Doe Hill    VA  24433  38.4207  -79.4629              99   \n",
       "\n",
       "                                 job        dob first_name last_name  \n",
       "0          Psychologist, counselling 1988-03-09   Jennifer     Banks  \n",
       "1  Special educational needs teacher 1978-06-21  Stephanie      Gill  \n",
       "2        Nature conservation officer 1962-01-19     Edward   Sanchez  \n",
       "3                    Patent attorney 1967-01-12     Jeremy     White  \n",
       "4     Dance movement psychotherapist 1986-03-28      Tyler    Garcia  \n",
       "\n",
       "[5 rows x 27 columns]"
      ]
     },
     "execution_count": 32,
     "metadata": {},
     "output_type": "execute_result"
    }
   ],
   "source": [
    "# peek at sample data\n",
    "df_pd.head()"
   ]
  },
  {
   "cell_type": "code",
   "execution_count": 33,
   "id": "497a074f-bed4-428f-87cf-e1fbb94cdc20",
   "metadata": {},
   "outputs": [
    {
     "data": {
      "text/html": [
       "<div>\n",
       "<style scoped>\n",
       "    .dataframe tbody tr th:only-of-type {\n",
       "        vertical-align: middle;\n",
       "    }\n",
       "\n",
       "    .dataframe tbody tr th {\n",
       "        vertical-align: top;\n",
       "    }\n",
       "\n",
       "    .dataframe thead th {\n",
       "        text-align: right;\n",
       "    }\n",
       "</style>\n",
       "<table border=\"1\" class=\"dataframe\">\n",
       "  <thead>\n",
       "    <tr style=\"text-align: right;\">\n",
       "      <th></th>\n",
       "      <th>amt</th>\n",
       "      <th>merch_eff_time</th>\n",
       "      <th>merch_last_update_time</th>\n",
       "      <th>trans_date_trans_time</th>\n",
       "      <th>latitude</th>\n",
       "      <th>longitude</th>\n",
       "      <th>city_population</th>\n",
       "      <th>dob</th>\n",
       "    </tr>\n",
       "  </thead>\n",
       "  <tbody>\n",
       "    <tr>\n",
       "      <th>count</th>\n",
       "      <td>1.296675e+06</td>\n",
       "      <td>1296675</td>\n",
       "      <td>1296675</td>\n",
       "      <td>1296675</td>\n",
       "      <td>1.296675e+06</td>\n",
       "      <td>1.296675e+06</td>\n",
       "      <td>1.296675e+06</td>\n",
       "      <td>1296675</td>\n",
       "    </tr>\n",
       "    <tr>\n",
       "      <th>mean</th>\n",
       "      <td>7.035104e+01</td>\n",
       "      <td>2008-11-18 09:24:34.822846464</td>\n",
       "      <td>2008-11-16 07:13:08.680719616</td>\n",
       "      <td>2019-10-03 20:47:28.070214400</td>\n",
       "      <td>3.853762e+01</td>\n",
       "      <td>-9.022634e+01</td>\n",
       "      <td>8.882444e+04</td>\n",
       "      <td>1973-10-03 19:02:55.017178512</td>\n",
       "    </tr>\n",
       "    <tr>\n",
       "      <th>min</th>\n",
       "      <td>1.000000e+00</td>\n",
       "      <td>1970-01-01 11:11:29</td>\n",
       "      <td>1970-06-03 17:07:24</td>\n",
       "      <td>2019-01-01 08:00:18</td>\n",
       "      <td>2.002710e+01</td>\n",
       "      <td>-1.656723e+02</td>\n",
       "      <td>2.300000e+01</td>\n",
       "      <td>1924-10-30 00:00:00</td>\n",
       "    </tr>\n",
       "    <tr>\n",
       "      <th>25%</th>\n",
       "      <td>9.650000e+00</td>\n",
       "      <td>2012-04-20 23:23:19.500000</td>\n",
       "      <td>2012-04-20 21:46:35</td>\n",
       "      <td>2019-06-04 03:12:22.500000</td>\n",
       "      <td>3.462050e+01</td>\n",
       "      <td>-9.679800e+01</td>\n",
       "      <td>7.430000e+02</td>\n",
       "      <td>1962-08-13 00:00:00</td>\n",
       "    </tr>\n",
       "    <tr>\n",
       "      <th>50%</th>\n",
       "      <td>4.752000e+01</td>\n",
       "      <td>2012-09-02 00:00:31</td>\n",
       "      <td>2012-09-01 23:44:46</td>\n",
       "      <td>2019-10-03 15:35:47</td>\n",
       "      <td>3.935430e+01</td>\n",
       "      <td>-8.747690e+01</td>\n",
       "      <td>2.456000e+03</td>\n",
       "      <td>1975-11-30 00:00:00</td>\n",
       "    </tr>\n",
       "    <tr>\n",
       "      <th>75%</th>\n",
       "      <td>8.314000e+01</td>\n",
       "      <td>2013-01-08 04:31:52.500000</td>\n",
       "      <td>2013-01-08 01:10:14</td>\n",
       "      <td>2020-01-28 23:02:55.500000</td>\n",
       "      <td>4.194040e+01</td>\n",
       "      <td>-8.015800e+01</td>\n",
       "      <td>2.032800e+04</td>\n",
       "      <td>1987-02-22 00:00:00</td>\n",
       "    </tr>\n",
       "    <tr>\n",
       "      <th>max</th>\n",
       "      <td>2.894890e+04</td>\n",
       "      <td>2013-06-21 20:13:37</td>\n",
       "      <td>2013-06-21 20:13:37</td>\n",
       "      <td>2020-06-21 20:13:37</td>\n",
       "      <td>6.669330e+01</td>\n",
       "      <td>-6.795030e+01</td>\n",
       "      <td>2.906700e+06</td>\n",
       "      <td>2005-01-29 00:00:00</td>\n",
       "    </tr>\n",
       "    <tr>\n",
       "      <th>std</th>\n",
       "      <td>1.603160e+02</td>\n",
       "      <td>NaN</td>\n",
       "      <td>NaN</td>\n",
       "      <td>NaN</td>\n",
       "      <td>5.075808e+00</td>\n",
       "      <td>1.375908e+01</td>\n",
       "      <td>3.019564e+05</td>\n",
       "      <td>NaN</td>\n",
       "    </tr>\n",
       "  </tbody>\n",
       "</table>\n",
       "</div>"
      ],
      "text/plain": [
       "                amt                 merch_eff_time  \\\n",
       "count  1.296675e+06                        1296675   \n",
       "mean   7.035104e+01  2008-11-18 09:24:34.822846464   \n",
       "min    1.000000e+00            1970-01-01 11:11:29   \n",
       "25%    9.650000e+00     2012-04-20 23:23:19.500000   \n",
       "50%    4.752000e+01            2012-09-02 00:00:31   \n",
       "75%    8.314000e+01     2013-01-08 04:31:52.500000   \n",
       "max    2.894890e+04            2013-06-21 20:13:37   \n",
       "std    1.603160e+02                            NaN   \n",
       "\n",
       "              merch_last_update_time          trans_date_trans_time  \\\n",
       "count                        1296675                        1296675   \n",
       "mean   2008-11-16 07:13:08.680719616  2019-10-03 20:47:28.070214400   \n",
       "min              1970-06-03 17:07:24            2019-01-01 08:00:18   \n",
       "25%              2012-04-20 21:46:35     2019-06-04 03:12:22.500000   \n",
       "50%              2012-09-01 23:44:46            2019-10-03 15:35:47   \n",
       "75%              2013-01-08 01:10:14     2020-01-28 23:02:55.500000   \n",
       "max              2013-06-21 20:13:37            2020-06-21 20:13:37   \n",
       "std                              NaN                            NaN   \n",
       "\n",
       "           latitude     longitude  city_population  \\\n",
       "count  1.296675e+06  1.296675e+06     1.296675e+06   \n",
       "mean   3.853762e+01 -9.022634e+01     8.882444e+04   \n",
       "min    2.002710e+01 -1.656723e+02     2.300000e+01   \n",
       "25%    3.462050e+01 -9.679800e+01     7.430000e+02   \n",
       "50%    3.935430e+01 -8.747690e+01     2.456000e+03   \n",
       "75%    4.194040e+01 -8.015800e+01     2.032800e+04   \n",
       "max    6.669330e+01 -6.795030e+01     2.906700e+06   \n",
       "std    5.075808e+00  1.375908e+01     3.019564e+05   \n",
       "\n",
       "                                 dob  \n",
       "count                        1296675  \n",
       "mean   1973-10-03 19:02:55.017178512  \n",
       "min              1924-10-30 00:00:00  \n",
       "25%              1962-08-13 00:00:00  \n",
       "50%              1975-11-30 00:00:00  \n",
       "75%              1987-02-22 00:00:00  \n",
       "max              2005-01-29 00:00:00  \n",
       "std                              NaN  "
      ]
     },
     "execution_count": 33,
     "metadata": {},
     "output_type": "execute_result"
    }
   ],
   "source": [
    "# look at basic statistic of the data\n",
    "df_pd.describe()"
   ]
  },
  {
   "cell_type": "code",
   "execution_count": 34,
   "id": "f13af30a-9bee-46fd-8b45-243c3eda86c9",
   "metadata": {},
   "outputs": [
    {
     "data": {
      "text/plain": [
       "Index(['Unnamed: 0', 'amt', 'category', 'cc_bic', 'cc_num', 'is_fraud',\n",
       "       'merch_eff_time', 'merch_last_update_time', 'merch_lat', 'merch_long',\n",
       "       'merch_zipcode', 'merchant', 'trans_date_trans_time', 'trans_num',\n",
       "       'person_name', 'gender', 'street', 'city', 'state', 'zip', 'latitude',\n",
       "       'longitude', 'city_population', 'job', 'dob', 'first_name',\n",
       "       'last_name'],\n",
       "      dtype='object')"
      ]
     },
     "execution_count": 34,
     "metadata": {},
     "output_type": "execute_result"
    }
   ],
   "source": [
    "df_pd.columns"
   ]
  },
  {
   "cell_type": "markdown",
   "id": "b589f257-a0dd-431c-831a-fc82220d561c",
   "metadata": {},
   "source": [
    "## For PII purpose, lets split the table into customer and transaction\n",
    "\n",
    "We will remove personal info from our transaction table when doing visualization"
   ]
  },
  {
   "cell_type": "code",
   "execution_count": 35,
   "id": "478bbd0d-682f-4bf1-affe-3dec89d8b8f5",
   "metadata": {},
   "outputs": [],
   "source": [
    "# list out all columns needed\n",
    "user_cols = ['first_name', 'last_name', 'gender', 'street', 'city', 'state', 'zip', 'latitude', 'longitude', 'job', 'dob']"
   ]
  },
  {
   "cell_type": "code",
   "execution_count": 36,
   "id": "e389e039-b191-4036-8479-0e631d025c0f",
   "metadata": {},
   "outputs": [],
   "source": [
    "unique_user = df_pd.groupby(user_cols)[[\"amt\"]].count().reset_index().drop(\"amt\", axis=1)"
   ]
  },
  {
   "cell_type": "code",
   "execution_count": 37,
   "id": "cd27776b-ab20-4e20-8b98-51a673d9a3ce",
   "metadata": {},
   "outputs": [],
   "source": [
    "# assign unique ID for each user, since we don't have one\n",
    "\n",
    "unique_user['user_uuid'] = unique_user.apply(lambda _: str(uuid.uuid4()), axis=1)"
   ]
  },
  {
   "cell_type": "code",
   "execution_count": 38,
   "id": "56e904bc-c220-4dac-a377-c8018747774d",
   "metadata": {
    "scrolled": true
   },
   "outputs": [
    {
     "data": {
      "text/html": [
       "<div>\n",
       "<style scoped>\n",
       "    .dataframe tbody tr th:only-of-type {\n",
       "        vertical-align: middle;\n",
       "    }\n",
       "\n",
       "    .dataframe tbody tr th {\n",
       "        vertical-align: top;\n",
       "    }\n",
       "\n",
       "    .dataframe thead th {\n",
       "        text-align: right;\n",
       "    }\n",
       "</style>\n",
       "<table border=\"1\" class=\"dataframe\">\n",
       "  <thead>\n",
       "    <tr style=\"text-align: right;\">\n",
       "      <th></th>\n",
       "      <th>first_name</th>\n",
       "      <th>last_name</th>\n",
       "      <th>gender</th>\n",
       "      <th>street</th>\n",
       "      <th>city</th>\n",
       "      <th>state</th>\n",
       "      <th>zip</th>\n",
       "      <th>latitude</th>\n",
       "      <th>longitude</th>\n",
       "      <th>job</th>\n",
       "      <th>dob</th>\n",
       "      <th>user_uuid</th>\n",
       "    </tr>\n",
       "  </thead>\n",
       "  <tbody>\n",
       "    <tr>\n",
       "      <th>0</th>\n",
       "      <td>Aaron</td>\n",
       "      <td>Murray</td>\n",
       "      <td>M</td>\n",
       "      <td>624 Hale Springs Apt. 572</td>\n",
       "      <td>Meadville</td>\n",
       "      <td>MO</td>\n",
       "      <td>64659</td>\n",
       "      <td>39.7795</td>\n",
       "      <td>-93.3014</td>\n",
       "      <td>Tourist information centre manager</td>\n",
       "      <td>1974-12-23</td>\n",
       "      <td>91370670-6c2d-4ab3-98a0-3ea6077cd33c</td>\n",
       "    </tr>\n",
       "    <tr>\n",
       "      <th>1</th>\n",
       "      <td>Aaron</td>\n",
       "      <td>Pena</td>\n",
       "      <td>M</td>\n",
       "      <td>793 Hooper Tunnel Suite 154</td>\n",
       "      <td>Burke</td>\n",
       "      <td>VA</td>\n",
       "      <td>22015</td>\n",
       "      <td>38.7894</td>\n",
       "      <td>-77.2818</td>\n",
       "      <td>Health visitor</td>\n",
       "      <td>1950-11-27</td>\n",
       "      <td>2ba307fb-669c-4747-bef5-d07618480a39</td>\n",
       "    </tr>\n",
       "    <tr>\n",
       "      <th>2</th>\n",
       "      <td>Aaron</td>\n",
       "      <td>Rogers</td>\n",
       "      <td>M</td>\n",
       "      <td>969 Huerta Path Apt. 270</td>\n",
       "      <td>Valentine</td>\n",
       "      <td>NE</td>\n",
       "      <td>69201</td>\n",
       "      <td>42.8062</td>\n",
       "      <td>-100.6215</td>\n",
       "      <td>Network engineer</td>\n",
       "      <td>1945-03-15</td>\n",
       "      <td>117eab10-665f-4522-8d2f-704eedcec564</td>\n",
       "    </tr>\n",
       "    <tr>\n",
       "      <th>3</th>\n",
       "      <td>Aaron</td>\n",
       "      <td>Stewart</td>\n",
       "      <td>M</td>\n",
       "      <td>400 Zuniga Pine</td>\n",
       "      <td>Winthrop</td>\n",
       "      <td>ME</td>\n",
       "      <td>4364</td>\n",
       "      <td>44.3229</td>\n",
       "      <td>-69.9576</td>\n",
       "      <td>Advertising account planner</td>\n",
       "      <td>1995-04-22</td>\n",
       "      <td>3bec9c77-15bf-40e1-bb93-631f5bfcc7ef</td>\n",
       "    </tr>\n",
       "    <tr>\n",
       "      <th>4</th>\n",
       "      <td>Adam</td>\n",
       "      <td>Keller</td>\n",
       "      <td>M</td>\n",
       "      <td>32600 Cobb Curve</td>\n",
       "      <td>Sardis</td>\n",
       "      <td>AL</td>\n",
       "      <td>36775</td>\n",
       "      <td>32.2844</td>\n",
       "      <td>-86.9920</td>\n",
       "      <td>Learning disability nurse</td>\n",
       "      <td>1932-09-17</td>\n",
       "      <td>632bca89-dc6e-4e09-b1e8-f2485b11c979</td>\n",
       "    </tr>\n",
       "  </tbody>\n",
       "</table>\n",
       "</div>"
      ],
      "text/plain": [
       "  first_name last_name gender                       street       city state  \\\n",
       "0      Aaron    Murray      M    624 Hale Springs Apt. 572  Meadville    MO   \n",
       "1      Aaron      Pena      M  793 Hooper Tunnel Suite 154      Burke    VA   \n",
       "2      Aaron    Rogers      M     969 Huerta Path Apt. 270  Valentine    NE   \n",
       "3      Aaron   Stewart      M              400 Zuniga Pine   Winthrop    ME   \n",
       "4       Adam    Keller      M             32600 Cobb Curve     Sardis    AL   \n",
       "\n",
       "     zip  latitude  longitude                                 job        dob  \\\n",
       "0  64659   39.7795   -93.3014  Tourist information centre manager 1974-12-23   \n",
       "1  22015   38.7894   -77.2818                      Health visitor 1950-11-27   \n",
       "2  69201   42.8062  -100.6215                    Network engineer 1945-03-15   \n",
       "3   4364   44.3229   -69.9576         Advertising account planner 1995-04-22   \n",
       "4  36775   32.2844   -86.9920           Learning disability nurse 1932-09-17   \n",
       "\n",
       "                              user_uuid  \n",
       "0  91370670-6c2d-4ab3-98a0-3ea6077cd33c  \n",
       "1  2ba307fb-669c-4747-bef5-d07618480a39  \n",
       "2  117eab10-665f-4522-8d2f-704eedcec564  \n",
       "3  3bec9c77-15bf-40e1-bb93-631f5bfcc7ef  \n",
       "4  632bca89-dc6e-4e09-b1e8-f2485b11c979  "
      ]
     },
     "execution_count": 38,
     "metadata": {},
     "output_type": "execute_result"
    }
   ],
   "source": [
    "unique_user.head()"
   ]
  },
  {
   "cell_type": "code",
   "execution_count": 64,
   "id": "54d1f86a-050c-4c46-897c-f26a6267c592",
   "metadata": {},
   "outputs": [],
   "source": [
    "# save unique user to parquet for further analysis\n",
    "\n",
    "unique_user.to_parquet(\"data/user.parquet\")"
   ]
  },
  {
   "cell_type": "code",
   "execution_count": 39,
   "id": "6d667ecb-be06-40fb-86eb-3c79e989af84",
   "metadata": {},
   "outputs": [],
   "source": [
    "# create credit card table per user \n",
    "df_pd_uid = df_pd.merge(unique_user[[\"first_name\", \"last_name\", \"dob\", \"user_uuid\"]], on=[\"first_name\", \"last_name\", \"dob\"], how=\"left\")"
   ]
  },
  {
   "cell_type": "code",
   "execution_count": 40,
   "id": "c8ed0f2b-29c9-4632-84b3-ce65b958d789",
   "metadata": {},
   "outputs": [
    {
     "data": {
      "text/html": [
       "<div>\n",
       "<style scoped>\n",
       "    .dataframe tbody tr th:only-of-type {\n",
       "        vertical-align: middle;\n",
       "    }\n",
       "\n",
       "    .dataframe tbody tr th {\n",
       "        vertical-align: top;\n",
       "    }\n",
       "\n",
       "    .dataframe thead th {\n",
       "        text-align: right;\n",
       "    }\n",
       "</style>\n",
       "<table border=\"1\" class=\"dataframe\">\n",
       "  <thead>\n",
       "    <tr style=\"text-align: right;\">\n",
       "      <th></th>\n",
       "      <th>user_uuid</th>\n",
       "      <th>cc_num</th>\n",
       "      <th>count</th>\n",
       "    </tr>\n",
       "  </thead>\n",
       "  <tbody>\n",
       "    <tr>\n",
       "      <th>0</th>\n",
       "      <td>00135168-33cd-4ce9-9fb1-3beca2cf0756</td>\n",
       "      <td>375082648741747</td>\n",
       "      <td>2048</td>\n",
       "    </tr>\n",
       "    <tr>\n",
       "      <th>1</th>\n",
       "      <td>00969156-dc14-4cd8-a167-9f0087742e8e</td>\n",
       "      <td>571844099986</td>\n",
       "      <td>1542</td>\n",
       "    </tr>\n",
       "    <tr>\n",
       "      <th>2</th>\n",
       "      <td>00a7abce-66d3-4888-a8cc-933a1ad95dbf</td>\n",
       "      <td>180067784565096</td>\n",
       "      <td>2063</td>\n",
       "    </tr>\n",
       "    <tr>\n",
       "      <th>3</th>\n",
       "      <td>01750bd0-e82a-4900-9849-a6d71e5e13b1</td>\n",
       "      <td>213126662687660</td>\n",
       "      <td>1530</td>\n",
       "    </tr>\n",
       "    <tr>\n",
       "      <th>4</th>\n",
       "      <td>0197db6c-6151-49c2-8135-361e6b1dfe8d</td>\n",
       "      <td>4025612008285111</td>\n",
       "      <td>1514</td>\n",
       "    </tr>\n",
       "    <tr>\n",
       "      <th>...</th>\n",
       "      <td>...</td>\n",
       "      <td>...</td>\n",
       "      <td>...</td>\n",
       "    </tr>\n",
       "    <tr>\n",
       "      <th>978</th>\n",
       "      <td>feb2ef65-ee84-4444-9629-39d577d5a0fe</td>\n",
       "      <td>4334230547694630</td>\n",
       "      <td>2054</td>\n",
       "    </tr>\n",
       "    <tr>\n",
       "      <th>979</th>\n",
       "      <td>feb60bf3-a1f7-4264-ad5a-7b514d727133</td>\n",
       "      <td>371985236239474</td>\n",
       "      <td>1010</td>\n",
       "    </tr>\n",
       "    <tr>\n",
       "      <th>980</th>\n",
       "      <td>ff56d992-6a98-4b2e-897b-13c4b623ea8f</td>\n",
       "      <td>3501285649323933</td>\n",
       "      <td>9</td>\n",
       "    </tr>\n",
       "    <tr>\n",
       "      <th>981</th>\n",
       "      <td>ff985a5c-19eb-45ad-98dd-b3e2813e1be5</td>\n",
       "      <td>3559723917628303</td>\n",
       "      <td>1020</td>\n",
       "    </tr>\n",
       "    <tr>\n",
       "      <th>982</th>\n",
       "      <td>ffb23948-d7d9-49c1-bfd3-7dcff98c7d0d</td>\n",
       "      <td>4640395708703</td>\n",
       "      <td>2038</td>\n",
       "    </tr>\n",
       "  </tbody>\n",
       "</table>\n",
       "<p>983 rows × 3 columns</p>\n",
       "</div>"
      ],
      "text/plain": [
       "                                user_uuid            cc_num  count\n",
       "0    00135168-33cd-4ce9-9fb1-3beca2cf0756   375082648741747   2048\n",
       "1    00969156-dc14-4cd8-a167-9f0087742e8e      571844099986   1542\n",
       "2    00a7abce-66d3-4888-a8cc-933a1ad95dbf   180067784565096   2063\n",
       "3    01750bd0-e82a-4900-9849-a6d71e5e13b1   213126662687660   1530\n",
       "4    0197db6c-6151-49c2-8135-361e6b1dfe8d  4025612008285111   1514\n",
       "..                                    ...               ...    ...\n",
       "978  feb2ef65-ee84-4444-9629-39d577d5a0fe  4334230547694630   2054\n",
       "979  feb60bf3-a1f7-4264-ad5a-7b514d727133   371985236239474   1010\n",
       "980  ff56d992-6a98-4b2e-897b-13c4b623ea8f  3501285649323933      9\n",
       "981  ff985a5c-19eb-45ad-98dd-b3e2813e1be5  3559723917628303   1020\n",
       "982  ffb23948-d7d9-49c1-bfd3-7dcff98c7d0d     4640395708703   2038\n",
       "\n",
       "[983 rows x 3 columns]"
      ]
     },
     "execution_count": 40,
     "metadata": {},
     "output_type": "execute_result"
    }
   ],
   "source": [
    "df_pd_uid.groupby(['user_uuid', 'cc_num']).size().reset_index(name='count')"
   ]
  },
  {
   "cell_type": "code",
   "execution_count": 87,
   "id": "4e1f1fbb-34bf-47f4-ac56-050658a4eaec",
   "metadata": {},
   "outputs": [
    {
     "data": {
      "text/plain": [
       "397233     11\n",
       "191384     11\n",
       "509662     11\n",
       "18668      11\n",
       "1128272    11\n",
       "           ..\n",
       "1062416    19\n",
       "360121     19\n",
       "1062426    19\n",
       "360155     19\n",
       "1296674    19\n",
       "Name: cc_num, Length: 1296675, dtype: int64"
      ]
     },
     "execution_count": 87,
     "metadata": {},
     "output_type": "execute_result"
    }
   ],
   "source": [
    "df_pd_uid.cc_num.str.len().sort_values()"
   ]
  },
  {
   "cell_type": "code",
   "execution_count": 41,
   "id": "3523b913-c41b-40a1-83e8-d951f3cb73f5",
   "metadata": {},
   "outputs": [],
   "source": [
    "# create back transaction table without user information and only use UUID as identifier key"
   ]
  },
  {
   "cell_type": "code",
   "execution_count": 45,
   "id": "2c68d3ae-e13d-4384-b084-e38b4a090c55",
   "metadata": {},
   "outputs": [
    {
     "data": {
      "text/plain": [
       "(1296675, 28)"
      ]
     },
     "execution_count": 45,
     "metadata": {},
     "output_type": "execute_result"
    }
   ],
   "source": [
    "df_pd_uid.shape"
   ]
  },
  {
   "cell_type": "code",
   "execution_count": 46,
   "id": "0a940c55-6b8a-4411-abad-2beb68c25b5e",
   "metadata": {},
   "outputs": [],
   "source": [
    "fact_table = df_pd_uid.drop(columns=user_cols).drop(columns='person_name')"
   ]
  },
  {
   "cell_type": "code",
   "execution_count": 47,
   "id": "dc44c381-60eb-45ec-916c-2412b48e2b41",
   "metadata": {},
   "outputs": [],
   "source": [
    "# remove credit card info, we only take last 4 digits for reference\n",
    "\n",
    "fact_table[\"cc_num\"] = fact_table[\"cc_num\"].str.strip().str[-4:]"
   ]
  },
  {
   "cell_type": "code",
   "execution_count": 48,
   "id": "48fcfefb-8543-4ca0-a6cb-b948d8896b7e",
   "metadata": {},
   "outputs": [
    {
     "data": {
      "text/plain": [
       "(1296675, 16)"
      ]
     },
     "execution_count": 48,
     "metadata": {},
     "output_type": "execute_result"
    }
   ],
   "source": [
    "fact_table.shape"
   ]
  },
  {
   "cell_type": "code",
   "execution_count": 49,
   "id": "6ae8e573-1f57-4843-979c-73dc621cbead",
   "metadata": {},
   "outputs": [
    {
     "data": {
      "text/html": [
       "<div>\n",
       "<style scoped>\n",
       "    .dataframe tbody tr th:only-of-type {\n",
       "        vertical-align: middle;\n",
       "    }\n",
       "\n",
       "    .dataframe tbody tr th {\n",
       "        vertical-align: top;\n",
       "    }\n",
       "\n",
       "    .dataframe thead th {\n",
       "        text-align: right;\n",
       "    }\n",
       "</style>\n",
       "<table border=\"1\" class=\"dataframe\">\n",
       "  <thead>\n",
       "    <tr style=\"text-align: right;\">\n",
       "      <th></th>\n",
       "      <th>Unnamed: 0</th>\n",
       "      <th>amt</th>\n",
       "      <th>category</th>\n",
       "      <th>cc_bic</th>\n",
       "      <th>cc_num</th>\n",
       "      <th>is_fraud</th>\n",
       "      <th>merch_eff_time</th>\n",
       "      <th>merch_last_update_time</th>\n",
       "      <th>merch_lat</th>\n",
       "      <th>merch_long</th>\n",
       "      <th>merch_zipcode</th>\n",
       "      <th>merchant</th>\n",
       "      <th>trans_date_trans_time</th>\n",
       "      <th>trans_num</th>\n",
       "      <th>city_population</th>\n",
       "      <th>user_uuid</th>\n",
       "    </tr>\n",
       "  </thead>\n",
       "  <tbody>\n",
       "    <tr>\n",
       "      <th>0</th>\n",
       "      <td>0</td>\n",
       "      <td>4.97</td>\n",
       "      <td>misc_net</td>\n",
       "      <td>CITIUS33CHI</td>\n",
       "      <td>2095</td>\n",
       "      <td>0</td>\n",
       "      <td>2012-01-01 08:00:18</td>\n",
       "      <td>2012-01-01 08:00:18</td>\n",
       "      <td>36.011293</td>\n",
       "      <td>-82.048315</td>\n",
       "      <td>28705</td>\n",
       "      <td>fraud_Rippin, Kub and Mann</td>\n",
       "      <td>2019-01-01 08:00:18</td>\n",
       "      <td>0b242abb623afc578575680df30655b9</td>\n",
       "      <td>3495</td>\n",
       "      <td>8df660dd-0f43-4f11-890d-41fba28e4633</td>\n",
       "    </tr>\n",
       "    <tr>\n",
       "      <th>1</th>\n",
       "      <td>1</td>\n",
       "      <td>107.23</td>\n",
       "      <td>grocery_pos</td>\n",
       "      <td>ADMDUS41</td>\n",
       "      <td>7322</td>\n",
       "      <td>0</td>\n",
       "      <td>2012-01-01 08:00:44</td>\n",
       "      <td>1974-03-15 07:30:04</td>\n",
       "      <td>49.159046999999994</td>\n",
       "      <td>-118.186462</td>\n",
       "      <td>None</td>\n",
       "      <td>fraud_Heller, Gutmann and Zieme</td>\n",
       "      <td>2019-01-01 08:00:44</td>\n",
       "      <td>1f76529f8574734946361c461b024d99</td>\n",
       "      <td>149</td>\n",
       "      <td>5d969e3d-f198-4002-856b-7c55207b6168</td>\n",
       "    </tr>\n",
       "    <tr>\n",
       "      <th>2</th>\n",
       "      <td>2</td>\n",
       "      <td>220.11</td>\n",
       "      <td>entertainment</td>\n",
       "      <td>Null</td>\n",
       "      <td>7661</td>\n",
       "      <td>0</td>\n",
       "      <td>2012-01-01 08:00:51</td>\n",
       "      <td>2012-01-01 08:00:51</td>\n",
       "      <td>43.150704</td>\n",
       "      <td>-112.154481</td>\n",
       "      <td>83236</td>\n",
       "      <td>fraud_Lind-Buckridge</td>\n",
       "      <td>2019-01-01 08:00:51</td>\n",
       "      <td>a1a22d70485983eac12b5b88dad1cf95</td>\n",
       "      <td>4154</td>\n",
       "      <td>fe6551aa-83f8-40a1-a3fc-722e301d88e4</td>\n",
       "    </tr>\n",
       "    <tr>\n",
       "      <th>3</th>\n",
       "      <td>3</td>\n",
       "      <td>45.00</td>\n",
       "      <td>gas_transport</td>\n",
       "      <td>DEUTUS33TRF</td>\n",
       "      <td>0240</td>\n",
       "      <td>0</td>\n",
       "      <td>2012-01-01 08:01:16</td>\n",
       "      <td>2012-01-01 08:01:16</td>\n",
       "      <td>47.034331</td>\n",
       "      <td>-112.561071</td>\n",
       "      <td>None</td>\n",
       "      <td>fraud_Kutch, Hermiston and Farrell</td>\n",
       "      <td>2019-01-01 08:01:16</td>\n",
       "      <td>6b849c168bdad6f867558c3793159a81</td>\n",
       "      <td>1939</td>\n",
       "      <td>0671017b-e583-4d5a-a282-0072df83723e</td>\n",
       "    </tr>\n",
       "    <tr>\n",
       "      <th>4</th>\n",
       "      <td>4</td>\n",
       "      <td>41.96</td>\n",
       "      <td>misc_pos</td>\n",
       "      <td>APBCUS61</td>\n",
       "      <td>3984</td>\n",
       "      <td>0</td>\n",
       "      <td>2012-01-01 08:03:06</td>\n",
       "      <td>1974-03-15 07:30:18</td>\n",
       "      <td>38.674999</td>\n",
       "      <td>-78.632459</td>\n",
       "      <td>22844</td>\n",
       "      <td>fraud_Keeling-Crist</td>\n",
       "      <td>2019-01-01 08:03:06</td>\n",
       "      <td>a41d7549acf90789359a9aa5346dcb46</td>\n",
       "      <td>99</td>\n",
       "      <td>06254c4b-34a1-42e1-81eb-1956e5b2ef6d</td>\n",
       "    </tr>\n",
       "  </tbody>\n",
       "</table>\n",
       "</div>"
      ],
      "text/plain": [
       "  Unnamed: 0     amt       category       cc_bic cc_num is_fraud  \\\n",
       "0          0    4.97       misc_net  CITIUS33CHI   2095        0   \n",
       "1          1  107.23    grocery_pos     ADMDUS41   7322        0   \n",
       "2          2  220.11  entertainment         Null   7661        0   \n",
       "3          3   45.00  gas_transport  DEUTUS33TRF   0240        0   \n",
       "4          4   41.96       misc_pos     APBCUS61   3984        0   \n",
       "\n",
       "       merch_eff_time merch_last_update_time           merch_lat   merch_long  \\\n",
       "0 2012-01-01 08:00:18    2012-01-01 08:00:18           36.011293   -82.048315   \n",
       "1 2012-01-01 08:00:44    1974-03-15 07:30:04  49.159046999999994  -118.186462   \n",
       "2 2012-01-01 08:00:51    2012-01-01 08:00:51           43.150704  -112.154481   \n",
       "3 2012-01-01 08:01:16    2012-01-01 08:01:16           47.034331  -112.561071   \n",
       "4 2012-01-01 08:03:06    1974-03-15 07:30:18           38.674999   -78.632459   \n",
       "\n",
       "  merch_zipcode                            merchant trans_date_trans_time  \\\n",
       "0         28705          fraud_Rippin, Kub and Mann   2019-01-01 08:00:18   \n",
       "1          None     fraud_Heller, Gutmann and Zieme   2019-01-01 08:00:44   \n",
       "2         83236                fraud_Lind-Buckridge   2019-01-01 08:00:51   \n",
       "3          None  fraud_Kutch, Hermiston and Farrell   2019-01-01 08:01:16   \n",
       "4         22844                 fraud_Keeling-Crist   2019-01-01 08:03:06   \n",
       "\n",
       "                          trans_num  city_population  \\\n",
       "0  0b242abb623afc578575680df30655b9             3495   \n",
       "1  1f76529f8574734946361c461b024d99              149   \n",
       "2  a1a22d70485983eac12b5b88dad1cf95             4154   \n",
       "3  6b849c168bdad6f867558c3793159a81             1939   \n",
       "4  a41d7549acf90789359a9aa5346dcb46               99   \n",
       "\n",
       "                              user_uuid  \n",
       "0  8df660dd-0f43-4f11-890d-41fba28e4633  \n",
       "1  5d969e3d-f198-4002-856b-7c55207b6168  \n",
       "2  fe6551aa-83f8-40a1-a3fc-722e301d88e4  \n",
       "3  0671017b-e583-4d5a-a282-0072df83723e  \n",
       "4  06254c4b-34a1-42e1-81eb-1956e5b2ef6d  "
      ]
     },
     "execution_count": 49,
     "metadata": {},
     "output_type": "execute_result"
    }
   ],
   "source": [
    "fact_table.head()"
   ]
  },
  {
   "cell_type": "code",
   "execution_count": 50,
   "id": "3b1ea2f9-aa3d-48da-8077-bae49a2f5173",
   "metadata": {},
   "outputs": [],
   "source": [
    "fact_table.to_parquet(\"data/fact.parquet\")"
   ]
  },
  {
   "cell_type": "markdown",
   "id": "188a2b4d-e2c7-4a95-99e0-b260a41ea6a9",
   "metadata": {},
   "source": [
    "# Data visualization\n",
    "\n",
    "I've decided to use powerBI to do data analysis as I feel, it is the right tool for the job. All analysis result can be found in pdf file"
   ]
  },
  {
   "cell_type": "markdown",
   "id": "5531a453-55b2-4652-85e9-e94a576fd098",
   "metadata": {},
   "source": [
    "![alt text](pg1.png)"
   ]
  },
  {
   "cell_type": "markdown",
   "id": "2c4f4683",
   "metadata": {},
   "source": [
    "- First page shows that the transaction happened in the US including Alaska and Hawaii.\n",
    "- The transaction spread is pretty event with the following peaks\n",
    "    1. 15/6/19\n",
    "    2. 14/9/19\n",
    "    3. 1/12/19\n",
    "    4. 30/5/20\n",
    "\n",
    "- grocery pos leads the category chart for transaction amount\n",
    "- shopping_net on the other hands shows the highest percent of fraudulent cases"
   ]
  },
  {
   "cell_type": "markdown",
   "id": "02d6813e",
   "metadata": {},
   "source": [
    "![image](pg2.png)"
   ]
  },
  {
   "cell_type": "markdown",
   "id": "32da4e61",
   "metadata": {},
   "source": [
    "- image 2 clearly shows a different pattern between normal transaction cases and fraudulent cases\n",
    "- fraudulent cases peak at around 6 and 7 in the morning (UTC+8) time\n",
    "- normal transaction seems to be on peak from 8 pm to 7 am next day"
   ]
  },
  {
   "cell_type": "markdown",
   "id": "963ed317",
   "metadata": {},
   "source": [
    "![Alt Text](pg3.png)"
   ]
  },
  {
   "cell_type": "markdown",
   "id": "fc039bb3",
   "metadata": {},
   "source": [
    "User analysis\n",
    "\n",
    "- There is quite even spread of the customers based on gender\n",
    "- there is also some interesting careers. Some that catch my eyes\n",
    "    - naval architect\n",
    "    - exhibition designer\n",
    "    - senior tax professional\n",
    "- the user age group is also spreaded well from the earliest in 1924 to 2005. that's almost 80 year difference\n",
    "- All users are also based in the US "
   ]
  },
  {
   "cell_type": "markdown",
   "id": "3d1764c2",
   "metadata": {},
   "source": [
    "![Alt Text](pg4.png)"
   ]
  },
  {
   "cell_type": "markdown",
   "id": "448dc452",
   "metadata": {},
   "source": [
    "Top merchant (by amount) is totally different when filtered by fraudulent and non fraud transactions."
   ]
  },
  {
   "cell_type": "code",
   "execution_count": null,
   "id": "8f136676",
   "metadata": {},
   "outputs": [],
   "source": []
  }
 ],
 "metadata": {
  "kernelspec": {
   "display_name": "Python 3 (ipykernel)",
   "language": "python",
   "name": "python3"
  },
  "language_info": {
   "codemirror_mode": {
    "name": "ipython",
    "version": 3
   },
   "file_extension": ".py",
   "mimetype": "text/x-python",
   "name": "python",
   "nbconvert_exporter": "python",
   "pygments_lexer": "ipython3",
   "version": "3.11.6"
  }
 },
 "nbformat": 4,
 "nbformat_minor": 5
}
